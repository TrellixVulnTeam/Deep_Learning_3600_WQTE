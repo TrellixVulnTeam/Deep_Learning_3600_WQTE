{
 "cells": [
  {
   "cell_type": "markdown",
   "metadata": {},
   "source": [
    "$$\n",
    "\\newcommand{\\mat}[1]{\\boldsymbol {#1}}\n",
    "\\newcommand{\\mattr}[1]{\\boldsymbol {#1}^\\top}\n",
    "\\newcommand{\\matinv}[1]{\\boldsymbol {#1}^{-1}}\n",
    "\\newcommand{\\vec}[1]{\\boldsymbol {#1}}\n",
    "\\newcommand{\\vectr}[1]{\\boldsymbol {#1}^\\top}\n",
    "\\newcommand{\\rvar}[1]{\\mathrm {#1}}\n",
    "\\newcommand{\\rvec}[1]{\\boldsymbol{\\mathrm{#1}}}\n",
    "\\newcommand{\\diag}{\\mathop{\\mathrm {diag}}}\n",
    "\\newcommand{\\set}[1]{\\mathbb {#1}}\n",
    "\\newcommand{\\norm}[1]{\\left\\lVert#1\\right\\rVert}\n",
    "\\newcommand{\\pderiv}[2]{\\frac{\\partial #1}{\\partial #2}}\n",
    "\\newcommand{\\bb}[1]{\\boldsymbol{#1}}\n",
    "$$\n",
    "# Part 1: Sequence Models\n",
    "<a id=part1></a>"
   ]
  },
  {
   "cell_type": "markdown",
   "metadata": {},
   "source": [
    "In this part we will learn about working with text sequences using recurrent neural networks.\n",
    "We'll go from a raw text file all the way to a fully trained GRU-RNN model and generate works of art!"
   ]
  },
  {
   "cell_type": "code",
   "execution_count": 1,
   "metadata": {
    "execution": {
     "iopub.execute_input": "2021-12-18T21:56:35.868212Z",
     "iopub.status.busy": "2021-12-18T21:56:35.867215Z",
     "iopub.status.idle": "2021-12-18T21:56:36.812441Z",
     "shell.execute_reply": "2021-12-18T21:56:36.811446Z"
    }
   },
   "outputs": [],
   "source": [
    "import unittest\n",
    "import os\n",
    "import sys\n",
    "import pathlib\n",
    "import urllib\n",
    "import shutil\n",
    "import re\n",
    "\n",
    "import numpy as np\n",
    "import torch\n",
    "import matplotlib.pyplot as plt\n",
    "\n",
    "%load_ext autoreload\n",
    "%autoreload 2"
   ]
  },
  {
   "cell_type": "code",
   "execution_count": 2,
   "metadata": {
    "execution": {
     "iopub.execute_input": "2021-12-18T21:56:36.816462Z",
     "iopub.status.busy": "2021-12-18T21:56:36.815432Z",
     "iopub.status.idle": "2021-12-18T21:56:36.888660Z",
     "shell.execute_reply": "2021-12-18T21:56:36.888660Z"
    }
   },
   "outputs": [
    {
     "name": "stdout",
     "output_type": "stream",
     "text": [
      "Using device: cpu\n"
     ]
    }
   ],
   "source": [
    "test = unittest.TestCase()\n",
    "plt.rcParams.update({'font.size': 12})\n",
    "device = torch.device('cuda' if torch.cuda.is_available() else 'cpu')\n",
    "print('Using device:', device)"
   ]
  },
  {
   "cell_type": "markdown",
   "metadata": {},
   "source": [
    "## Text generation with a char-level RNN\n",
    "<a id=part1_1></a>"
   ]
  },
  {
   "cell_type": "markdown",
   "metadata": {},
   "source": [
    "### Obtaining the corpus\n",
    "<a id=part1_2></a>"
   ]
  },
  {
   "cell_type": "markdown",
   "metadata": {},
   "source": [
    "Let's begin by downloading a corpus containing all the works of William Shakespeare.\n",
    "Since he was very prolific, this corpus is fairly large and will provide us with enough data for\n",
    "obtaining impressive results."
   ]
  },
  {
   "cell_type": "code",
   "execution_count": 3,
   "metadata": {
    "execution": {
     "iopub.execute_input": "2021-12-18T21:56:36.925562Z",
     "iopub.status.busy": "2021-12-18T21:56:36.924564Z",
     "iopub.status.idle": "2021-12-18T21:56:36.983596Z",
     "shell.execute_reply": "2021-12-18T21:56:36.984560Z"
    }
   },
   "outputs": [
    {
     "name": "stdout",
     "output_type": "stream",
     "text": [
      "Corpus file C:\\Users\\Gil zeevi\\.pytorch-datasets\\shakespeare.txt exists, skipping download.\n"
     ]
    }
   ],
   "source": [
    "CORPUS_URL = 'https://github.com/cedricdeboom/character-level-rnn-datasets/raw/master/datasets/shakespeare.txt'\n",
    "DATA_DIR = pathlib.Path.home().joinpath('.pytorch-datasets')\n",
    "\n",
    "def download_corpus(out_path=DATA_DIR, url=CORPUS_URL, force=False):\n",
    "    pathlib.Path(out_path).mkdir(exist_ok=True)\n",
    "    out_filename = os.path.join(out_path, os.path.basename(url))\n",
    "    \n",
    "    if os.path.isfile(out_filename) and not force:\n",
    "        print(f'Corpus file {out_filename} exists, skipping download.')\n",
    "    else:\n",
    "        print(f'Downloading {url}...')\n",
    "        with urllib.request.urlopen(url) as response, open(out_filename, 'wb') as out_file:\n",
    "            shutil.copyfileobj(response, out_file)\n",
    "        print(f'Saved to {out_filename}.')\n",
    "    return out_filename\n",
    "    \n",
    "corpus_path = download_corpus()"
   ]
  },
  {
   "cell_type": "markdown",
   "metadata": {},
   "source": [
    "Load the text into memory and print a snippet:"
   ]
  },
  {
   "cell_type": "code",
   "execution_count": 4,
   "metadata": {
    "execution": {
     "iopub.execute_input": "2021-12-18T21:56:36.987552Z",
     "iopub.status.busy": "2021-12-18T21:56:36.987552Z",
     "iopub.status.idle": "2021-12-18T21:56:37.066038Z",
     "shell.execute_reply": "2021-12-18T21:56:37.065041Z"
    }
   },
   "outputs": [
    {
     "name": "stdout",
     "output_type": "stream",
     "text": [
      "Corpus length: 6347703 chars\n",
      "ALLS WELL THAT ENDS WELL\n",
      "\n",
      "by William Shakespeare\n",
      "\n",
      "Dramatis Personae\n",
      "\n",
      "  KING OF FRANCE\n",
      "  THE DUKE OF FLORENCE\n",
      "  BERTRAM, Count of Rousillon\n",
      "  LAFEU, an old lord\n",
      "  PAROLLES, a follower of Bertram\n",
      "  TWO FRENCH LORDS, serving with Bertram\n",
      "\n",
      "  STEWARD, Servant to the Countess of Rousillon\n",
      "  LAVACHE, a clown and Servant to the Countess of Rousillon\n",
      "  A PAGE, Servant to the Countess of Rousillon\n",
      "\n",
      "  COUNTESS OF ROUSILLON, mother to Bertram\n",
      "  HELENA, a gentlewoman protected by the Countess\n",
      "  A WIDOW OF FLORENCE.\n",
      "  DIANA, daughter to the Widow\n",
      "\n",
      "  VIOLENTA, neighbour and friend to the Widow\n",
      "  MARIANA, neighbour and friend to the Widow\n",
      "\n",
      "  Lords, Officers, Soldiers, etc., French and Florentine  \n",
      "\n",
      "SCENE:\n",
      "Rousillon; Paris; Florence; Marseilles\n",
      "\n",
      "ACT I. SCENE 1.\n",
      "Rousillon. The COUNT'S palace\n",
      "\n",
      "Enter BERTRAM, the COUNTESS OF ROUSILLON, HELENA, and LAFEU, all in black\n",
      "\n",
      "  COUNTESS. In delivering my son from me, I bury a second husband.\n",
      "  BERTRAM. And I in going, madam, weep o'er my father's death anew;\n",
      "    but I must attend his Majesty's command, to whom I am now in\n",
      "    ward, evermore in subjection.\n",
      "  LAFEU. You shall find of the King a husband, madam; you, sir, a\n",
      "    father. He that so generally is at all times good must of\n",
      "    \n"
     ]
    }
   ],
   "source": [
    "with open(corpus_path, 'r', encoding='utf-8') as f:\n",
    "    corpus = f.read()\n",
    "\n",
    "print(f'Corpus length: {len(corpus)} chars')\n",
    "print(corpus[7:1234])"
   ]
  },
  {
   "cell_type": "markdown",
   "metadata": {},
   "source": [
    "### Data Preprocessing\n",
    "<a id=part1_3></a>"
   ]
  },
  {
   "cell_type": "markdown",
   "metadata": {},
   "source": [
    "The first thing we'll need is to map from each unique character in the corpus to an index that will represent it in our learning process.\n",
    "\n",
    "**TODO**: Implement the `char_maps()` function in the `hw3/charnn.py` module."
   ]
  },
  {
   "cell_type": "code",
   "execution_count": 5,
   "metadata": {
    "execution": {
     "iopub.execute_input": "2021-12-18T21:56:37.073055Z",
     "iopub.status.busy": "2021-12-18T21:56:37.072021Z",
     "iopub.status.idle": "2021-12-18T21:56:37.224150Z",
     "shell.execute_reply": "2021-12-18T21:56:37.223153Z"
    }
   },
   "outputs": [
    {
     "name": "stdout",
     "output_type": "stream",
     "text": [
      "{'\\n': 0, ' ': 1, '!': 2, '\"': 3, '$': 4, '&': 5, \"'\": 6, '(': 7, ')': 8, ',': 9, '-': 10, '.': 11, '0': 12, '1': 13, '2': 14, '3': 15, '4': 16, '5': 17, '6': 18, '7': 19, '8': 20, '9': 21, ':': 22, ';': 23, '<': 24, '?': 25, 'A': 26, 'B': 27, 'C': 28, 'D': 29, 'E': 30, 'F': 31, 'G': 32, 'H': 33, 'I': 34, 'J': 35, 'K': 36, 'L': 37, 'M': 38, 'N': 39, 'O': 40, 'P': 41, 'Q': 42, 'R': 43, 'S': 44, 'T': 45, 'U': 46, 'V': 47, 'W': 48, 'X': 49, 'Y': 50, 'Z': 51, '[': 52, ']': 53, '_': 54, 'a': 55, 'b': 56, 'c': 57, 'd': 58, 'e': 59, 'f': 60, 'g': 61, 'h': 62, 'i': 63, 'j': 64, 'k': 65, 'l': 66, 'm': 67, 'n': 68, 'o': 69, 'p': 70, 'q': 71, 'r': 72, 's': 73, 't': 74, 'u': 75, 'v': 76, 'w': 77, 'x': 78, 'y': 79, 'z': 80, '}': 81, '\\ufeff': 82}\n"
     ]
    }
   ],
   "source": [
    "import hw3.charnn as charnn\n",
    "\n",
    "char_to_idx, idx_to_char = charnn.char_maps(corpus)\n",
    "print(char_to_idx)\n",
    "\n",
    "test.assertEqual(len(char_to_idx), len(idx_to_char))\n",
    "test.assertSequenceEqual(list(char_to_idx.keys()), list(idx_to_char.values()))\n",
    "test.assertSequenceEqual(list(char_to_idx.values()), list(idx_to_char.keys()))"
   ]
  },
  {
   "cell_type": "markdown",
   "metadata": {},
   "source": [
    "Seems we have some strange characters in the corpus that are very rare and are probably due to mistakes.\n",
    "To reduce the length of each tensor we'll need to later represent our chars, it's best to remove them.\n",
    "\n",
    "**TODO**: Implement the `remove_chars()` function in the `hw3/charnn.py` module."
   ]
  },
  {
   "cell_type": "code",
   "execution_count": 6,
   "metadata": {
    "execution": {
     "iopub.execute_input": "2021-12-18T21:56:37.231165Z",
     "iopub.status.busy": "2021-12-18T21:56:37.230170Z",
     "iopub.status.idle": "2021-12-18T21:56:37.440807Z",
     "shell.execute_reply": "2021-12-18T21:56:37.439811Z"
    }
   },
   "outputs": [
    {
     "name": "stdout",
     "output_type": "stream",
     "text": [
      "Removed 34 chars\n"
     ]
    }
   ],
   "source": [
    "corpus, n_removed = charnn.remove_chars(corpus, ['}','$','_','<','\\ufeff'])\n",
    "print(f'Removed {n_removed} chars')\n",
    "\n",
    "# After removing the chars, re-create the mappings\n",
    "char_to_idx, idx_to_char = charnn.char_maps(corpus)"
   ]
  },
  {
   "cell_type": "markdown",
   "metadata": {},
   "source": [
    "The next thing we need is an **embedding** of the chracters.\n",
    "An embedding is a representation of each token from the sequence as a tensor.\n",
    "For a char-level RNN, our tokens will be chars and we can thus use the simplest possible embedding: encode each char as a **one-hot** tensor. In other words, each char will be represented\n",
    "as a tensor whos length is the total number of unique chars (`V`) which contains all zeros except at the index\n",
    "corresponding to that specific char.\n",
    "\n",
    "**TODO**: Implement the functions `chars_to_onehot()` and `onehot_to_chars()` in the `hw3/charnn.py` module."
   ]
  },
  {
   "cell_type": "code",
   "execution_count": 7,
   "metadata": {
    "execution": {
     "iopub.execute_input": "2021-12-18T21:56:37.445828Z",
     "iopub.status.busy": "2021-12-18T21:56:37.444797Z",
     "iopub.status.idle": "2021-12-18T21:56:37.518632Z",
     "shell.execute_reply": "2021-12-18T21:56:37.517636Z"
    }
   },
   "outputs": [
    {
     "name": "stdout",
     "output_type": "stream",
     "text": [
      "brine a maiden can season her praise in.\n",
      "   \n",
      "tensor([[0, 0, 0, 0, 0, 0, 0, 0, 0, 0, 0, 0, 0, 0, 0, 0, 0, 0, 0, 0, 0, 0, 0, 0,\n",
      "         0, 0, 0, 0, 0, 0, 0, 0, 0, 0, 0, 0, 0, 0, 0, 0, 0, 0, 0, 0, 0, 0, 0, 0,\n",
      "         0, 0, 0, 0, 0, 1, 0, 0, 0, 0, 0, 0, 0, 0, 0, 0, 0, 0, 0, 0, 0, 0, 0, 0,\n",
      "         0, 0, 0, 0, 0, 0],\n",
      "        [0, 0, 0, 0, 0, 0, 0, 0, 0, 0, 0, 0, 0, 0, 0, 0, 0, 0, 0, 0, 0, 0, 0, 0,\n",
      "         0, 0, 0, 0, 0, 0, 0, 0, 0, 0, 0, 0, 0, 0, 0, 0, 0, 0, 0, 0, 0, 0, 0, 0,\n",
      "         0, 0, 0, 0, 0, 0, 0, 0, 0, 0, 0, 0, 0, 0, 0, 0, 0, 0, 0, 0, 0, 1, 0, 0,\n",
      "         0, 0, 0, 0, 0, 0],\n",
      "        [0, 0, 0, 0, 0, 0, 0, 0, 0, 0, 0, 0, 0, 0, 0, 0, 0, 0, 0, 0, 0, 0, 0, 0,\n",
      "         0, 0, 0, 0, 0, 0, 0, 0, 0, 0, 0, 0, 0, 0, 0, 0, 0, 0, 0, 0, 0, 0, 0, 0,\n",
      "         0, 0, 0, 0, 0, 0, 0, 0, 0, 0, 0, 0, 1, 0, 0, 0, 0, 0, 0, 0, 0, 0, 0, 0,\n",
      "         0, 0, 0, 0, 0, 0]], dtype=torch.int8)\n"
     ]
    }
   ],
   "source": [
    "# Wrap the actual embedding functions for calling convenience\n",
    "def embed(text):\n",
    "    return charnn.chars_to_onehot(text, char_to_idx)\n",
    "\n",
    "def unembed(embedding):\n",
    "    return charnn.onehot_to_chars(embedding, idx_to_char)\n",
    "\n",
    "text_snippet = corpus[3104:3148]\n",
    "print(text_snippet)\n",
    "print(embed(text_snippet[0:3]))\n",
    "\n",
    "test.assertEqual(text_snippet, unembed(embed(text_snippet)))\n",
    "test.assertEqual(embed(text_snippet).dtype, torch.int8)"
   ]
  },
  {
   "cell_type": "markdown",
   "metadata": {},
   "source": [
    "### Dataset Creation\n",
    "<a id=part1_4></a>"
   ]
  },
  {
   "cell_type": "markdown",
   "metadata": {},
   "source": [
    "We wish to train our model to generate text by constantly predicting what the next char should be based on the past.\n",
    "To that end we'll need to train our recurrent network in a way similar to a classification task. At each timestep, we input a char and set the expected output (label) to be the next char in the original sequence.\n",
    "\n",
    "We will split our corpus into shorter sequences of length `S` chars (see question below).\n",
    "Each **sample** we provide our model with will therefore be a tensor of shape `(S,V)` where `V` is the embedding dimension. Our model will operate sequentially on each char in the sequence.\n",
    "For each sample, we'll also need a **label**. This is simply another sequence, shifted by one char so that the label of each char is the next char in the corpus."
   ]
  },
  {
   "cell_type": "markdown",
   "metadata": {},
   "source": [
    "**TODO**: Implement the `chars_to_labelled_samples()` function in the `hw3/charnn.py` module."
   ]
  },
  {
   "cell_type": "code",
   "execution_count": 8,
   "metadata": {
    "execution": {
     "iopub.execute_input": "2021-12-18T21:56:37.523586Z",
     "iopub.status.busy": "2021-12-18T21:56:37.523586Z",
     "iopub.status.idle": "2021-12-18T21:57:25.321124Z",
     "shell.execute_reply": "2021-12-18T21:57:25.320127Z"
    }
   },
   "outputs": [
    {
     "name": "stdout",
     "output_type": "stream",
     "text": [
      "samples shape: torch.Size([99182, 64, 78])\n",
      "labels shape: torch.Size([99182, 64])\n"
     ]
    }
   ],
   "source": [
    "# Create dataset of sequences\n",
    "seq_len = 64\n",
    "vocab_len = len(char_to_idx)\n",
    "\n",
    "# Create labelled samples\n",
    "samples, labels = charnn.chars_to_labelled_samples(corpus, char_to_idx, seq_len, device)\n",
    "print(f'samples shape: {samples.shape}')\n",
    "print(f'labels shape: {labels.shape}')\n",
    "\n",
    "# Test shapes\n",
    "num_samples = (len(corpus) - 1) // seq_len\n",
    "test.assertEqual(samples.shape, (num_samples, seq_len, vocab_len))\n",
    "test.assertEqual(labels.shape, (num_samples, seq_len))\n",
    "\n",
    "# Test content\n",
    "for _ in range(1000):\n",
    "    # random sample\n",
    "    i = np.random.randint(num_samples, size=(1,))[0]\n",
    "    # Compare to corpus\n",
    "    test.assertEqual(unembed(samples[i]), corpus[i*seq_len:(i+1)*seq_len], msg=f\"content mismatch in sample {i}\")\n",
    "    # Compare to labels\n",
    "    sample_text = unembed(samples[i])\n",
    "    label_text = str.join('', [idx_to_char[j.item()] for j in labels[i]])\n",
    "    test.assertEqual(sample_text[1:], label_text[0:-1], msg=f\"label mismatch in sample {i}\")"
   ]
  },
  {
   "cell_type": "markdown",
   "metadata": {},
   "source": [
    "Let's print a few consecutive samples. You should see that the text continues between them."
   ]
  },
  {
   "cell_type": "code",
   "execution_count": 9,
   "metadata": {
    "execution": {
     "iopub.execute_input": "2021-12-18T21:57:25.325245Z",
     "iopub.status.busy": "2021-12-18T21:57:25.324248Z",
     "iopub.status.idle": "2021-12-18T21:57:25.383126Z",
     "shell.execute_reply": "2021-12-18T21:57:25.383126Z"
    }
   },
   "outputs": [
    {
     "name": "stdout",
     "output_type": "stream",
     "text": [
      "sample [72854]:\n",
      "\twit; but- TROILUS. O Pandarus! I tell thee, Pandarus- When\n",
      "sample [72855]:\n",
      "\tI do tell thee there my hopes lie drown'd, Reply not in how\n",
      "sample [72856]:\n",
      "\tmany fathoms deep They lie indrench'd. I tell thee I am mad\n",
      "sample [72857]:\n",
      "\tIn Cressid's love. Thou answer'st 'She is fair'- Poures\n",
      "sample [72858]:\n",
      "\tt in the open ulcer of my heart- Her eyes, her hair, her che\n"
     ]
    }
   ],
   "source": [
    "import re\n",
    "import random\n",
    "\n",
    "i = random.randrange(num_samples-5)\n",
    "for i in range(i, i+5):\n",
    "    test.assertEqual(len(samples[i]), seq_len)\n",
    "    s = re.sub(r'\\s+', ' ', unembed(samples[i])).strip()\n",
    "    print(f'sample [{i}]:\\n\\t{s}')"
   ]
  },
  {
   "cell_type": "markdown",
   "metadata": {},
   "source": [
    "As usual, instead of feeding one sample at a time into our model's forward we'll work with **batches** of samples. This means that at every timestep, our model will operate on a batch of chars that are from **different sequences**.\n",
    "Effectively this will allow us to parallelize training our model by dong matrix-matrix multiplications\n",
    "instead of matrix-vector during the forward pass."
   ]
  },
  {
   "cell_type": "markdown",
   "metadata": {},
   "source": [
    "An important nuance is that we need the batches to be **contiguous**, i.e. sample $k$ in batch $j$ should continue sample $k$ from batch $j-1$.\n",
    "The following figure illustrates this:\n",
    "\n",
    "<img src=\"imgs/rnn-batching.png\"/>\n",
    "\n",
    "If we naïvely take consecutive samples into batches, e.g. `[0,1,...,B-1]`, `[B,B+1,...,2B-1]` and so on, we won't have contiguous\n",
    "sequences at the same index between adjacent batches.\n",
    "\n",
    "To accomplish this we need to tell our `DataLoader` which samples to combine together into one batch.\n",
    "We do this by implementing a custom PyTorch `Sampler`, and providing it to our `DataLoader`."
   ]
  },
  {
   "cell_type": "markdown",
   "metadata": {},
   "source": [
    "**TODO**: Implement the `SequenceBatchSampler` class in the `hw3/charnn.py` module."
   ]
  },
  {
   "cell_type": "code",
   "execution_count": 10,
   "metadata": {
    "execution": {
     "iopub.execute_input": "2021-12-18T21:57:25.388112Z",
     "iopub.status.busy": "2021-12-18T21:57:25.387163Z",
     "iopub.status.idle": "2021-12-18T21:57:25.464331Z",
     "shell.execute_reply": "2021-12-18T21:57:25.463296Z"
    }
   },
   "outputs": [
    {
     "name": "stdout",
     "output_type": "stream",
     "text": [
      "sampler_idx =\n",
      " [0, 3, 6, 9, 12, 15, 18, 21, 24, 27, 1, 4, 7, 10, 13, 16, 19, 22, 25, 28, 2, 5, 8, 11, 14, 17, 20, 23, 26, 29]\n"
     ]
    }
   ],
   "source": [
    "from hw3.charnn import SequenceBatchSampler\n",
    "\n",
    "sampler = SequenceBatchSampler(dataset=range(32), batch_size=10)\n",
    "sampler_idx = list(sampler)\n",
    "print('sampler_idx =\\n', sampler_idx)\n",
    "\n",
    "# Test the Sampler\n",
    "test.assertEqual(len(sampler_idx), 30)\n",
    "batch_idx = np.array(sampler_idx).reshape(-1, 10)\n",
    "for k in range(10):\n",
    "    test.assertEqual(np.diff(batch_idx[:, k], n=2).item(), 0)"
   ]
  },
  {
   "cell_type": "markdown",
   "metadata": {},
   "source": [
    "Even though we're working with sequences, we can still use the standard PyTorch `Dataset`/`DataLoader` combo.\n",
    "For the dataset we can use a built-in class, `TensorDataset` to return tuples of `(sample, label)`\n",
    "from the `samples` and `labels` tensors we created above.\n",
    "The `DataLoader` will be provided with our custom `Sampler` so that it generates appropriate batches."
   ]
  },
  {
   "cell_type": "code",
   "execution_count": 11,
   "metadata": {
    "execution": {
     "iopub.execute_input": "2021-12-18T21:57:25.471309Z",
     "iopub.status.busy": "2021-12-18T21:57:25.470275Z",
     "iopub.status.idle": "2021-12-18T21:57:25.539090Z",
     "shell.execute_reply": "2021-12-18T21:57:25.538093Z"
    }
   },
   "outputs": [],
   "source": [
    "import torch.utils.data\n",
    "\n",
    "# Create DataLoader returning batches of samples.\n",
    "batch_size = 32\n",
    "\n",
    "ds_corpus = torch.utils.data.TensorDataset(samples, labels)\n",
    "sampler_corpus = SequenceBatchSampler(ds_corpus, batch_size)\n",
    "dl_corpus = torch.utils.data.DataLoader(ds_corpus, batch_size=batch_size, sampler=sampler_corpus, shuffle=False)"
   ]
  },
  {
   "cell_type": "markdown",
   "metadata": {},
   "source": [
    "Let's see what that gives us:"
   ]
  },
  {
   "cell_type": "code",
   "execution_count": 12,
   "metadata": {
    "execution": {
     "iopub.execute_input": "2021-12-18T21:57:25.545075Z",
     "iopub.status.busy": "2021-12-18T21:57:25.544078Z",
     "iopub.status.idle": "2021-12-18T21:57:25.616918Z",
     "shell.execute_reply": "2021-12-18T21:57:25.617879Z"
    }
   },
   "outputs": [
    {
     "name": "stdout",
     "output_type": "stream",
     "text": [
      "num batches: 3100\n",
      "shape of a batch of samples: torch.Size([32, 64, 78])\n",
      "shape of a batch of labels: torch.Size([32, 64])\n"
     ]
    }
   ],
   "source": [
    "print(f'num batches: {len(dl_corpus)}')\n",
    "\n",
    "x0, y0 = next(iter(dl_corpus))\n",
    "print(f'shape of a batch of samples: {x0.shape}')\n",
    "print(f'shape of a batch of labels: {y0.shape}')"
   ]
  },
  {
   "cell_type": "markdown",
   "metadata": {},
   "source": [
    "Now lets look at the same sample index from multiple batches taken from our corpus."
   ]
  },
  {
   "cell_type": "code",
   "execution_count": 13,
   "metadata": {
    "execution": {
     "iopub.execute_input": "2021-12-18T21:57:25.621871Z",
     "iopub.status.busy": "2021-12-18T21:57:25.620897Z",
     "iopub.status.idle": "2021-12-18T21:57:25.712660Z",
     "shell.execute_reply": "2021-12-18T21:57:25.712660Z"
    }
   },
   "outputs": [
    {
     "name": "stdout",
     "output_type": "stream",
     "text": [
      "=== batch 0, sample 27 (torch.Size([64, 78])): ===\n",
      "\tUS: You have made Good work, you and your cry! Shall's to the Ca\n",
      "=== batch 1, sample 27 (torch.Size([64, 78])): ===\n",
      "\tpitol? COMINIUS: O, ay, what else? SICINIUS: Go, masters, get\n",
      "=== batch 2, sample 27 (torch.Size([64, 78])): ===\n",
      "\tyou home; be not dismay'd: These are a side that would be glad t\n",
      "=== batch 3, sample 27 (torch.Size([64, 78])): ===\n",
      "\to have This true which they so seem to fear. Go home, And show n\n",
      "=== batch 4, sample 27 (torch.Size([64, 78])): ===\n",
      "\to sign of fear. First Citizen: The gods be good to us! Come, ma\n"
     ]
    }
   ],
   "source": [
    "# Check that sentences in in same index of different batches complete each other.\n",
    "k = random.randrange(batch_size)\n",
    "for j, (X, y) in enumerate(dl_corpus,):\n",
    "    print(f'=== batch {j}, sample {k} ({X[k].shape}): ===')\n",
    "    s = re.sub(r'\\s+', ' ', unembed(X[k])).strip()\n",
    "    print(f'\\t{s}')\n",
    "    if j==4: break"
   ]
  },
  {
   "cell_type": "markdown",
   "metadata": {},
   "source": [
    "### Model Implementation\n",
    "<a id=part1_5></a>"
   ]
  },
  {
   "cell_type": "markdown",
   "metadata": {},
   "source": [
    "Finally, our data set is ready so we can focus on our model.\n",
    "\n",
    "We'll implement here is a multilayer gated recurrent unit (GRU) model, with dropout.\n",
    "This model is a type of RNN which performs similar to the well-known LSTM model,\n",
    "but it's somewhat easier to train because it has less parameters.\n",
    "We'll modify the regular GRU slightly by applying dropout to\n",
    "the hidden states passed between layers of the model.\n",
    "\n",
    "The model accepts an input $\\mat{X}\\in\\set{R}^{S\\times V}$ containing a sequence of embedded chars.\n",
    "It returns an output $\\mat{Y}\\in\\set{R}^{S\\times V}$ of predictions for the next char and the final hidden state\n",
    "$\\mat{H}\\in\\set{R}^{L\\times H}$. Here $S$ is the sequence length, $V$ is the vocabulary size (number of unique chars), $L$ is the number of layers in the model and $H$ is the hidden dimension."
   ]
  },
  {
   "cell_type": "markdown",
   "metadata": {},
   "source": [
    "Mathematically, the model's forward function at layer $k\\in[1,L]$ and timestep $t\\in[1,S]$ can be described as\n",
    "\n",
    "$$\n",
    "\\begin{align}\n",
    "\\vec{z_t}^{[k]} &= \\sigma\\left(\\vec{x}^{[k]}_t {\\mattr{W}_{\\mathrm{xz}}}^{[k]} +\n",
    "    \\vec{h}_{t-1}^{[k]} {\\mattr{W}_{\\mathrm{hz}}}^{[k]} + \\vec{b}_{\\mathrm{z}}^{[k]}\\right) \\\\\n",
    "\\vec{r_t}^{[k]} &= \\sigma\\left(\\vec{x}^{[k]}_t {\\mattr{W}_{\\mathrm{xr}}}^{[k]} +\n",
    "    \\vec{h}_{t-1}^{[k]} {\\mattr{W}_{\\mathrm{hr}}}^{[k]} + \\vec{b}_{\\mathrm{r}}^{[k]}\\right) \\\\\n",
    "\\vec{g_t}^{[k]} &= \\tanh\\left(\\vec{x}^{[k]}_t {\\mattr{W}_{\\mathrm{xg}}}^{[k]} +\n",
    "    (\\vec{r_t}^{[k]}\\odot\\vec{h}_{t-1}^{[k]}) {\\mattr{W}_{\\mathrm{hg}}}^{[k]} + \\vec{b}_{\\mathrm{g}}^{[k]}\\right) \\\\\n",
    "\\vec{h_t}^{[k]} &= \\vec{z}^{[k]}_t \\odot \\vec{h}^{[k]}_{t-1} + \\left(1-\\vec{z}^{[k]}_t\\right)\\odot \\vec{g_t}^{[k]}\n",
    "\\end{align}\n",
    "$$"
   ]
  },
  {
   "cell_type": "markdown",
   "metadata": {},
   "source": [
    "The input to each layer is,\n",
    "$$\n",
    "\\mat{X}^{[k]} =\n",
    "\\begin{bmatrix}\n",
    "    {\\vec{x}_1}^{[k]} \\\\ \\vdots \\\\ {\\vec{x}_S}^{[k]}\n",
    "\\end{bmatrix} \n",
    "=\n",
    "\\begin{cases}\n",
    "    \\mat{X} & \\mathrm{if} ~k = 1~ \\\\\n",
    "    \\mathrm{dropout}_p \\left(\n",
    "    \\begin{bmatrix}\n",
    "        {\\vec{h}_1}^{[k-1]} \\\\ \\vdots \\\\ {\\vec{h}_S}^{[k-1]}\n",
    "    \\end{bmatrix} \\right) & \\mathrm{if} ~1 < k \\leq L+1~\n",
    "\\end{cases}.\n",
    "$$"
   ]
  },
  {
   "cell_type": "markdown",
   "metadata": {},
   "source": [
    "The output of the entire model is then,\n",
    "$$\n",
    "\\mat{Y} = \\mat{X}^{[L+1]} {\\mattr{W}_{\\mathrm{hy}}} + \\mat{B}_{\\mathrm{y}}\n",
    "$$"
   ]
  },
  {
   "cell_type": "markdown",
   "metadata": {},
   "source": [
    "and the final hidden state is\n",
    "$$\n",
    "\\mat{H} = \n",
    "\\begin{bmatrix}\n",
    "    {\\vec{h}_S}^{[1]} \\\\ \\vdots \\\\ {\\vec{h}_S}^{[L]}\n",
    "\\end{bmatrix}.\n",
    "$$"
   ]
  },
  {
   "cell_type": "markdown",
   "metadata": {},
   "source": [
    "Notes:\n",
    "- $t\\in[1,S]$ is the timestep, i.e. the current position within the sequence of each sample.\n",
    "- $\\vec{x}_t^{[k]}$ is the input of layer $k$ at timestep $t$, respectively.\n",
    "- The outputs of the **last layer** $\\vec{y}_t^{[L]}$, are the predicted next characters for every input char.\n",
    "  These are similar to class scores in classification tasks.\n",
    "- The hidden states at the **last timestep**, $\\vec{h}_S^{[k]}$, are the final hidden state returned from the model.\n",
    "- $\\sigma(\\cdot)$ is the sigmoid function, i.e. $\\sigma(\\vec{z}) = 1/(1+e^{-\\vec{z}})$ which returns values in $(0,1)$.\n",
    "- $\\tanh(\\cdot)$ is the hyperbolic tangent, i.e. $\\tanh(\\vec{z}) = (e^{2\\vec{z}}-1)/(e^{2\\vec{z}}+1)$ which returns values in $(-1,1)$.\n",
    "- $\\vec{h_t}^{[k]}$ is the hidden state of layer $k$ at time $t$. This can be thought of as the memory of that layer.\n",
    "- $\\vec{g_t}^{[k]}$ is the candidate hidden state for time $t+1$.\n",
    "- $\\vec{z_t}^{[k]}$ is known as the update gate. It combines the previous state with the input to determine how much the current state will be combined with the new candidate state. For example, if $\\vec{z_t}^{[k]}=\\vec{1}$ then the current input has no effect on the output.\n",
    "- $\\vec{r_t}^{[k]}$ is known as the reset gate. It combines the previous state with the input to determine how much of the previous state will affect the current state candidate. For example if $\\vec{r_t}^{[k]}=\\vec{0}$ the previous state has no effect on the current candidate state."
   ]
  },
  {
   "cell_type": "markdown",
   "metadata": {},
   "source": [
    "Here's a graphical representation of the GRU's forward pass at each timestep. The $\\vec{\\tilde{h}}$ in the image is our $\\vec{g}$ (candidate next state).\n",
    "\n",
    "<img src=\"imgs/gru_cell.png\" width=\"400\"/>\n",
    "\n",
    "You can see how the reset and update gates allow the model to completely ignore it's previous state, completely ignore it's input, or any mixture of those states (since the gates are actually continuous and between $(0,1)$)."
   ]
  },
  {
   "cell_type": "markdown",
   "metadata": {},
   "source": [
    "Here's a graphical representation of the entire model.\n",
    "You can ignore the $c_t^{[k]}$ (cell state) variables (which are relevant for LSTM models).\n",
    "Our model has only the hidden state, $h_t^{[k]}$. Also notice that we added dropout between layers (i.e., on the up arrows).\n",
    "\n",
    "<img src=\"imgs/lstm_model.png\" />\n",
    "\n",
    "The purple tensors are inputs (a sequence and initial hidden state per layer), and the green tensors are outputs (another sequence and final hidden state per layer). Each blue block implements the above forward equations.\n",
    "Blocks that are on the same vertical level are at the same layer, and therefore share parameters."
   ]
  },
  {
   "cell_type": "markdown",
   "metadata": {},
   "source": [
    "**TODO**: Implement the `MultilayerGRU` class in the `hw3/charnn.py` module.\n",
    "\n",
    "Notes:\n",
    "- You'll need to handle input **batches** now.\n",
    "  The math is identical to the above, but all the tensors will have an extra batch\n",
    "  dimension as their first dimension.\n",
    "- Use the diagram above to help guide your implementation.\n",
    "  It will help you visualize what shapes to returns where, etc.\n"
   ]
  },
  {
   "cell_type": "code",
   "execution_count": 14,
   "metadata": {
    "execution": {
     "iopub.execute_input": "2021-12-18T21:57:25.718610Z",
     "iopub.status.busy": "2021-12-18T21:57:25.717612Z",
     "iopub.status.idle": "2021-12-18T21:57:25.966947Z",
     "shell.execute_reply": "2021-12-18T21:57:25.965949Z"
    }
   },
   "outputs": [
    {
     "name": "stdout",
     "output_type": "stream",
     "text": [
      "MultilayerGRU(\n",
      "  (Layer_xz_0): Linear(in_features=78, out_features=256, bias=True)\n",
      "  (Layer_xr_0): Linear(in_features=78, out_features=256, bias=True)\n",
      "  (Layer_xg_0): Linear(in_features=78, out_features=256, bias=True)\n",
      "  (Layer_hz_0): Linear(in_features=256, out_features=256, bias=False)\n",
      "  (Layer_hr_0): Linear(in_features=256, out_features=256, bias=False)\n",
      "  (Layer_hg_0): Linear(in_features=256, out_features=256, bias=False)\n",
      "  (Layer_xz_1): Linear(in_features=256, out_features=256, bias=True)\n",
      "  (Layer_xr_1): Linear(in_features=256, out_features=256, bias=True)\n",
      "  (Layer_xg_1): Linear(in_features=256, out_features=256, bias=True)\n",
      "  (Layer_hz_1): Linear(in_features=256, out_features=256, bias=False)\n",
      "  (Layer_hr_1): Linear(in_features=256, out_features=256, bias=False)\n",
      "  (Layer_hg_1): Linear(in_features=256, out_features=256, bias=False)\n",
      "  (Layer_xz_2): Linear(in_features=256, out_features=256, bias=True)\n",
      "  (Layer_xr_2): Linear(in_features=256, out_features=256, bias=True)\n",
      "  (Layer_xg_2): Linear(in_features=256, out_features=256, bias=True)\n",
      "  (Layer_hz_2): Linear(in_features=256, out_features=256, bias=False)\n",
      "  (Layer_hr_2): Linear(in_features=256, out_features=256, bias=False)\n",
      "  (Layer_hg_2): Linear(in_features=256, out_features=256, bias=False)\n",
      "  (Layer_hout): Linear(in_features=256, out_features=78, bias=True)\n",
      ")\n",
      "y.shape=torch.Size([32, 64, 78])\n",
      "h.shape=torch.Size([32, 3, 256])\n"
     ]
    }
   ],
   "source": [
    "in_dim = vocab_len\n",
    "h_dim = 256\n",
    "n_layers = 3\n",
    "model = charnn.MultilayerGRU(in_dim, h_dim, out_dim=in_dim, n_layers=n_layers)\n",
    "model = model.to(device)\n",
    "print(model)\n",
    "\n",
    "# Test forward pass\n",
    "y, h = model(x0.to(dtype=torch.float, device=device))\n",
    "print(f'y.shape={y.shape}')\n",
    "print(f'h.shape={h.shape}')\n",
    "\n",
    "test.assertEqual(y.shape, (batch_size, seq_len, vocab_len))\n",
    "test.assertEqual(h.shape, (batch_size, n_layers, h_dim))\n",
    "test.assertEqual(len(list(model.parameters())), 9 * n_layers + 2) "
   ]
  },
  {
   "cell_type": "markdown",
   "metadata": {},
   "source": [
    "### Generating text by sampling\n",
    "<a id=part1_6></a>"
   ]
  },
  {
   "cell_type": "markdown",
   "metadata": {},
   "source": [
    "Now that we have a model, we can implement **text generation** based on it.\n",
    "The idea is simple:\n",
    "At each timestep our model receives one char $x_t$ from the input sequence and outputs scores $y_t$\n",
    "for what the next char should be.\n",
    "We'll convert these scores into a probability over each of the possible chars.\n",
    "In other words, for each input char $x_t$ we create a probability distribution for the next char\n",
    "conditioned on the current one and the state of the model (representing all previous inputs):\n",
    "$$p(x_{t+1}|x_t, \\vec{h}_t).$$\n",
    "\n",
    "Once we have such a distribution, we'll sample a char from it.\n",
    "This will be the first char of our generated sequence.\n",
    "Now we can feed this new char into the model, create another distribution, sample the next char and so on.\n",
    "Note that it's crucial to propagate the hidden state when sampling."
   ]
  },
  {
   "cell_type": "markdown",
   "metadata": {},
   "source": [
    "The important point however is how to create the distribution from the scores.\n",
    "One way, as we saw in previous ML tasks, is to use the softmax function.\n",
    "However, a drawback of softmax is that it can generate very diffuse (more uniform) distributions if the score values are very similar. When sampling, we would prefer to control the distributions and make them less uniform to increase the chance of sampling the char(s) with the highest scores compared to the others.\n",
    "\n",
    "To control the variance of the distribution, a common trick is to add a hyperparameter $T$, known as the \n",
    "*temperature* to the softmax function. The class scores are simply scaled by $T$ before softmax is applied:\n",
    "$$\n",
    "\\mathrm{softmax}_T(\\vec{y}) = \\frac{e^{\\vec{y}/T}}{\\sum_k e^{y_k/T}}\n",
    "$$\n",
    "\n",
    "A low $T$ will result in less uniform distributions and vice-versa."
   ]
  },
  {
   "cell_type": "markdown",
   "metadata": {},
   "source": [
    "**TODO**: Implement the `hot_softmax()` function in the `hw3/charnn.py` module."
   ]
  },
  {
   "cell_type": "code",
   "execution_count": 15,
   "metadata": {
    "execution": {
     "iopub.execute_input": "2021-12-18T21:57:25.972931Z",
     "iopub.status.busy": "2021-12-18T21:57:25.971966Z",
     "iopub.status.idle": "2021-12-18T21:57:26.569356Z",
     "shell.execute_reply": "2021-12-18T21:57:26.570386Z"
    }
   },
   "outputs": [
    {
     "data": {
      "image/png": "[encoded data removed]",
      "text/plain": [
       "<Figure size 1080x360 with 1 Axes>"
      ]
     },
     "metadata": {
      "needs_background": "light"
     },
     "output_type": "display_data"
    }
   ],
   "source": [
    "scores = y[0,0,:].detach()\n",
    "_, ax = plt.subplots(figsize=(15,5))\n",
    "\n",
    "for t in reversed([0.3, 0.5, 1.0, 100]):\n",
    "    ax.plot(charnn.hot_softmax(scores, temperature=t).cpu().numpy(), label=f'T={t}')\n",
    "ax.set_xlabel('$x_{t+1}$')\n",
    "ax.set_ylabel('$p(x_{t+1}|x_t)$')\n",
    "ax.legend()\n",
    "\n",
    "uniform_proba = 1/len(char_to_idx)\n",
    "uniform_diff = torch.abs(charnn.hot_softmax(scores, temperature=100) - uniform_proba)\n",
    "test.assertTrue(torch.all(uniform_diff < 1e-4))"
   ]
  },
  {
   "cell_type": "markdown",
   "metadata": {},
   "source": [
    "**TODO**: Implement the `generate_from_model()` function in the `hw3/charnn.py` module."
   ]
  },
  {
   "cell_type": "code",
   "execution_count": 16,
   "metadata": {
    "execution": {
     "iopub.execute_input": "2021-12-18T21:57:26.573379Z",
     "iopub.status.busy": "2021-12-18T21:57:26.573379Z",
     "iopub.status.idle": "2021-12-18T21:57:26.838636Z",
     "shell.execute_reply": "2021-12-18T21:57:26.837638Z"
    }
   },
   "outputs": [
    {
     "name": "stdout",
     "output_type": "stream",
     "text": [
      "foobarssL-o6\"OFoqg,I\"z0KHp1aUCinz?d4nQetDL[c8.NuMc\n",
      "foobarqOw,\"x7ZOue2ssv?eNveA-a!e\"sQmr6Qn0yB6N?!lK8x\n",
      "foobarxHW?oy?;vVRic,ag-GO;t-W\"[aF1zO.L[x',H2fE0iqX\n"
     ]
    }
   ],
   "source": [
    "for _ in range(3):\n",
    "    text = charnn.generate_from_model(model, \"foobar\", 50, (char_to_idx, idx_to_char), T=0.5)\n",
    "    print(text)\n",
    "    test.assertEqual(len(text), 50)"
   ]
  },
  {
   "cell_type": "markdown",
   "metadata": {},
   "source": [
    "### Training\n",
    "<a id=part1_7></a>"
   ]
  },
  {
   "cell_type": "markdown",
   "metadata": {},
   "source": [
    "To train this model, we'll calculate the loss at each time step by comparing the predicted char to\n",
    "the actual char from our label. We can use cross entropy since per char it's similar to a classification problem.\n",
    "We'll then sum the losses over the sequence and back-propagate the gradients though time.\n",
    "Notice that the back-propagation algorithm will \"visit\" each layer's parameter tensors multiple times,\n",
    "so we'll accumulate gradients in parameters of the blocks. Luckily `autograd` will handle this part for us."
   ]
  },
  {
   "cell_type": "markdown",
   "metadata": {},
   "source": [
    "As usual, the first step of training will be to try and **overfit** a large model (many parameters) to a tiny dataset.\n",
    "Again, this is to ensure the model and training code are implemented correctly, i.e. that the model can learn.\n",
    "\n",
    "For a generative model such as this, overfitting is slightly trickier than for classification.\n",
    "What we'll aim to do is to get our model to **memorize** a specific sequence of chars, so that when given the first\n",
    "char in the sequence it will immediately spit out the rest of the sequence verbatim.\n",
    "\n",
    "Let's create a tiny dataset to memorize."
   ]
  },
  {
   "cell_type": "code",
   "execution_count": 17,
   "metadata": {
    "execution": {
     "iopub.execute_input": "2021-12-18T21:57:26.842625Z",
     "iopub.status.busy": "2021-12-18T21:57:26.842625Z",
     "iopub.status.idle": "2021-12-18T21:57:26.930392Z",
     "shell.execute_reply": "2021-12-18T21:57:26.931389Z"
    }
   },
   "outputs": [
    {
     "name": "stdout",
     "output_type": "stream",
     "text": [
      "Text to \"memorize\":\n",
      "\n",
      "TRAM. What would you have?\n",
      "  HELENA. Something; and scarce so much; nothing, indeed.\n",
      "    I would not tell you what I would, my lord.\n",
      "    Faith, yes:\n",
      "    Strangers and foes do sunder and not kiss.\n",
      "  BERTRAM. I pray you, stay not, but in haste to horse.\n",
      "  HE\n"
     ]
    }
   ],
   "source": [
    "# Pick a tiny subset of the dataset\n",
    "subset_start, subset_end = 1001, 1005\n",
    "ds_corpus_ss = torch.utils.data.Subset(ds_corpus, range(subset_start, subset_end))\n",
    "batch_size_ss = 1\n",
    "sampler_ss = SequenceBatchSampler(ds_corpus_ss, batch_size=batch_size_ss)\n",
    "dl_corpus_ss = torch.utils.data.DataLoader(ds_corpus_ss, batch_size_ss, sampler=sampler_ss, shuffle=False)\n",
    "\n",
    "# Convert subset to text\n",
    "subset_text = ''\n",
    "for i in range(subset_end - subset_start):\n",
    "    subset_text += unembed(ds_corpus_ss[i][0])\n",
    "print(f'Text to \"memorize\":\\n\\n{subset_text}')"
   ]
  },
  {
   "cell_type": "markdown",
   "metadata": {},
   "source": [
    "Now let's implement the first part of our training code.\n",
    "\n",
    "**TODO**: Implement the `train_epoch()` and `train_batch()` methods of the `RNNTrainer` class in the `hw3/training.py` module. \n",
    "You must think about how to correctly handle the hidden state of the model between batches and epochs for this specific task (i.e. text generation)."
   ]
  },
  {
   "cell_type": "code",
   "execution_count": 18,
   "metadata": {
    "execution": {
     "iopub.execute_input": "2021-12-18T21:57:26.936376Z",
     "iopub.status.busy": "2021-12-18T21:57:26.936376Z",
     "iopub.status.idle": "2021-12-18T21:57:50.375624Z",
     "shell.execute_reply": "2021-12-18T21:57:50.374627Z"
    }
   },
   "outputs": [
    {
     "name": "stdout",
     "output_type": "stream",
     "text": [
      "\n",
      "Epoch #1: Avg. loss = 3.980, Accuracy = 18.36%\n",
      "Tt                                                                     o                                                                     o                        o                                                                      o                  \n",
      "\n",
      "Epoch #25: Avg. loss = 0.251, Accuracy = 97.66%\n",
      "TRAM. What would you have?\n",
      "  HELENA. Something; and scarce so much; nothing  and scarce so much; nothing  and scarce so much; not kiss.\n",
      "    I would not tell you what would not tell you what I would not tell you what would not tell you what I would not tell\n",
      "\n",
      "Epoch #50: Avg. loss = 0.010, Accuracy = 100.00%\n",
      "TRAM. What would you have?\n",
      "  HELENA. Something; and scarce so much; nothing, indeed.\n",
      "    I would not tell you what I would, my lord.\n",
      "    Faith, yes:\n",
      "    Strangers and foes do sunder and not kiss.\n",
      "  BERTRAM. I pray you, stay not, but in haste to horse.\n",
      "  HE\n"
     ]
    }
   ],
   "source": [
    "import torch.nn as nn\n",
    "import torch.optim as optim\n",
    "from hw3.training import RNNTrainer\n",
    "\n",
    "torch.manual_seed(42)\n",
    "\n",
    "lr = 0.01\n",
    "num_epochs = 500\n",
    "\n",
    "in_dim = vocab_len\n",
    "h_dim = 128\n",
    "n_layers = 2\n",
    "loss_fn = nn.CrossEntropyLoss()\n",
    "model = charnn.MultilayerGRU(in_dim, h_dim, out_dim=in_dim, n_layers=n_layers).to(device)\n",
    "optimizer = optim.Adam(model.parameters(), lr=lr)\n",
    "trainer = RNNTrainer(model, loss_fn, optimizer, device)\n",
    "\n",
    "for epoch in range(num_epochs):\n",
    "    epoch_result = trainer.train_epoch(dl_corpus_ss, verbose=False)\n",
    "    \n",
    "    # Every X epochs, we'll generate a sequence starting from the first char in the first sequence\n",
    "    # to visualize how/if/what the model is learning.\n",
    "    if epoch == 0 or (epoch+1) % 25 == 0:\n",
    "        avg_loss = np.mean(epoch_result.losses)\n",
    "        accuracy = np.mean(epoch_result.accuracy)\n",
    "        print(f'\\nEpoch #{epoch+1}: Avg. loss = {avg_loss:.3f}, Accuracy = {accuracy:.2f}%')\n",
    "        \n",
    "        generated_sequence = charnn.generate_from_model(model, subset_text[0],\n",
    "                                                        seq_len*(subset_end-subset_start),\n",
    "                                                        (char_to_idx,idx_to_char), T=0.1)\n",
    "        \n",
    "        # Stop if we've successfully memorized the small dataset.\n",
    "        print(generated_sequence)\n",
    "        if generated_sequence == subset_text:\n",
    "            break\n",
    "\n",
    "# Test successful overfitting\n",
    "test.assertGreater(epoch_result.accuracy, 99)\n",
    "test.assertEqual(generated_sequence, subset_text)"
   ]
  },
  {
   "cell_type": "markdown",
   "metadata": {},
   "source": [
    "OK, so training works - we can memorize a short sequence.\n",
    "We'll now train a much larger model on our large dataset. You'll need a GPU for this part.\n",
    "\n",
    "First, lets set up our dataset and models for training.\n",
    "We'll split our corpus into 90% train and 10% test-set.\n",
    "Also, we'll use a learning-rate scheduler to control the learning rate during training."
   ]
  },
  {
   "cell_type": "markdown",
   "metadata": {},
   "source": [
    "**TODO**: Set the hyperparameters in the `part1_rnn_hyperparams()` function of the `hw3/answers.py` module."
   ]
  },
  {
   "cell_type": "code",
   "execution_count": 19,
   "metadata": {
    "execution": {
     "iopub.execute_input": "2021-12-18T21:57:50.382606Z",
     "iopub.status.busy": "2021-12-18T21:57:50.381608Z",
     "iopub.status.idle": "2021-12-18T21:58:33.814803Z",
     "shell.execute_reply": "2021-12-18T21:58:33.814803Z"
    }
   },
   "outputs": [
    {
     "name": "stdout",
     "output_type": "stream",
     "text": [
      "hyperparams:\n",
      " {'batch_size': 256, 'seq_len': 60, 'h_dim': 1024, 'n_layers': 2, 'dropout': 0.2, 'learn_rate': 0.0002, 'lr_sched_factor': 0.002, 'lr_sched_patience': 5}\n",
      "Train: 371 batches, 5698560 chars\n",
      "Test:   41 batches,  629760 chars\n"
     ]
    }
   ],
   "source": [
    "from hw3.answers import part1_rnn_hyperparams\n",
    "\n",
    "hp = part1_rnn_hyperparams()\n",
    "print('hyperparams:\\n', hp)\n",
    "\n",
    "### Dataset definition\n",
    "vocab_len = len(char_to_idx)\n",
    "batch_size = hp['batch_size']\n",
    "seq_len = hp['seq_len']\n",
    "train_test_ratio = 0.9\n",
    "num_samples = (len(corpus) - 1) // seq_len\n",
    "num_train = int(train_test_ratio * num_samples)\n",
    "\n",
    "samples, labels = charnn.chars_to_labelled_samples(corpus, char_to_idx, seq_len, device)\n",
    "\n",
    "ds_train = torch.utils.data.TensorDataset(samples[:num_train], labels[:num_train])\n",
    "sampler_train = SequenceBatchSampler(ds_train, batch_size)\n",
    "dl_train = torch.utils.data.DataLoader(ds_train, batch_size, shuffle=False, sampler=sampler_train, drop_last=True)\n",
    "\n",
    "ds_test = torch.utils.data.TensorDataset(samples[num_train:], labels[num_train:])\n",
    "sampler_test = SequenceBatchSampler(ds_test, batch_size)\n",
    "dl_test = torch.utils.data.DataLoader(ds_test, batch_size, shuffle=False, sampler=sampler_test, drop_last=True)\n",
    "\n",
    "print(f'Train: {len(dl_train):3d} batches, {len(dl_train)*batch_size*seq_len:7d} chars')\n",
    "print(f'Test:  {len(dl_test):3d} batches, {len(dl_test)*batch_size*seq_len:7d} chars')\n",
    "\n",
    "### Training definition\n",
    "in_dim = out_dim = vocab_len\n",
    "checkpoint_file = 'checkpoints/rnn'\n",
    "num_epochs = 50\n",
    "early_stopping = 5\n",
    "\n",
    "model = charnn.MultilayerGRU(in_dim, hp['h_dim'], out_dim, hp['n_layers'], hp['dropout'])\n",
    "loss_fn = nn.CrossEntropyLoss()\n",
    "optimizer = optim.Adam(model.parameters(), lr=hp['learn_rate'])\n",
    "scheduler = optim.lr_scheduler.ReduceLROnPlateau(\n",
    "    optimizer, mode='max', factor=hp['lr_sched_factor'], patience=hp['lr_sched_patience'], verbose=True\n",
    ")\n",
    "trainer = RNNTrainer(model, loss_fn, optimizer, device)"
   ]
  },
  {
   "cell_type": "markdown",
   "metadata": {},
   "source": [
    "The code blocks below will train the model and save checkpoints containing the training state and the best model parameters to a file. This allows you to stop training and resume it later from where you left.\n",
    "\n",
    "Note that you can use the `main.py` script provided within the assignment folder to run this notebook from the command line as if it were a python script by using the `run-nb` subcommand. This allows you to train your model using this notebook without starting jupyter. You can combine this with `srun` or `sbatch` to run the notebook with a GPU on the course servers."
   ]
  },
  {
   "cell_type": "markdown",
   "metadata": {},
   "source": [
    "**TODO**:\n",
    "- Implement the `fit()` method of the `Trainer` class. You can reuse the relevant implementation parts from HW2, but make sure to implement early stopping and checkpoints.\n",
    "- Implement the `test_epoch()` and `test_batch()` methods of the `RNNTrainer` class in the `hw3/training.py` module.\n",
    "- Run the following block to train.\n",
    "- When training is done and you're satisfied with the model's outputs, rename the checkpoint file to `checkpoints/rnn_final.pt`.\n",
    "  This will cause the block to skip training and instead load your saved model when running the homework submission script.\n",
    "  Note that your submission zip file will not include the checkpoint file. This is OK."
   ]
  },
  {
   "cell_type": "code",
   "execution_count": 20,
   "metadata": {
    "execution": {
     "iopub.execute_input": "2021-12-18T21:58:33.820753Z",
     "iopub.status.busy": "2021-12-18T21:58:33.820753Z",
     "iopub.status.idle": "2021-12-18T21:58:33.910512Z",
     "shell.execute_reply": "2021-12-18T21:58:33.910512Z"
    }
   },
   "outputs": [
    {
     "name": "stdout",
     "output_type": "stream",
     "text": [
      "*** Loading final checkpoint file checkpoints/rnn_final.pt instead of training\n"
     ]
    }
   ],
   "source": [
    "from cs3600.plot import plot_fit\n",
    "\n",
    "def post_epoch_fn(epoch, train_res, test_res, verbose):\n",
    "    # Update learning rate\n",
    "    scheduler.step(test_res.accuracy)\n",
    "    # Sample from model to show progress\n",
    "    if verbose:\n",
    "        start_seq = \"ACT I.\"\n",
    "        generated_sequence = charnn.generate_from_model(\n",
    "            model, start_seq, 100, (char_to_idx,idx_to_char), T=0.5\n",
    "        )\n",
    "        print(generated_sequence)\n",
    "\n",
    "# Train, unless final checkpoint is found\n",
    "checkpoint_file_final = f'{checkpoint_file}_final.pt'\n",
    "if os.path.isfile(checkpoint_file_final):\n",
    "    print(f'*** Loading final checkpoint file {checkpoint_file_final} instead of training')\n",
    "    saved_state = torch.load(checkpoint_file_final, map_location=device)\n",
    "    model.load_state_dict(saved_state['model_state'])\n",
    "else:\n",
    "    try:\n",
    "        # Print pre-training sampling\n",
    "        print(charnn.generate_from_model(model, \"ACT I.\", 100, (char_to_idx,idx_to_char), T=0.5))\n",
    "\n",
    "        fit_res = trainer.fit(dl_train, dl_test, num_epochs, max_batches=None,\n",
    "                              post_epoch_fn=post_epoch_fn, early_stopping=early_stopping,\n",
    "                              checkpoints=checkpoint_file, print_every=1)\n",
    "        \n",
    "        fig, axes = plot_fit(fit_res)\n",
    "    except KeyboardInterrupt as e:\n",
    "        print('\\n *** Training interrupted by user')"
   ]
  },
  {
   "cell_type": "markdown",
   "metadata": {},
   "source": [
    "### Generating a work of art\n",
    "<a id=part1_8></a>"
   ]
  },
  {
   "cell_type": "markdown",
   "metadata": {},
   "source": [
    "Armed with our fully trained model, let's generate the next Hamlet! You should experiment with modifying the sampling temperature and see what happens.\n",
    "\n",
    "The text you generate should “look” like a Shakespeare play:\n",
    "old-style English words and sentence structure, directions for the actors\n",
    "(like “Exit/Enter”), sections (Act I/Scene III) etc.\n",
    "There will be no coherent plot of course, but it should at least seem like\n",
    "a Shakespearean play when not looking too closely.\n",
    "If this is not what you see, go back, debug and/or and re-train.\n",
    "\n",
    "**TODO**: Specify the generation parameters in the `part1_generation_params()` function within the `hw3/answers.py` module."
   ]
  },
  {
   "cell_type": "code",
   "execution_count": 21,
   "metadata": {
    "execution": {
     "iopub.execute_input": "2021-12-18T21:58:33.915499Z",
     "iopub.status.busy": "2021-12-18T21:58:33.914502Z",
     "iopub.status.idle": "2021-12-18T21:58:59.992183Z",
     "shell.execute_reply": "2021-12-18T21:58:59.993180Z"
    }
   },
   "outputs": [
    {
     "name": "stdout",
     "output_type": "stream",
     "text": [
      "SCENE:\n",
      " IDC; Herzliya;\n",
      "ACT I. SCENE 1.\n",
      "\n",
      "London. The palace\n",
      "\n",
      "Enter the LORD CHAMBERLAIN\n",
      "\n",
      "  CLIFFORD the Lady Margaret was SIMER in the next neither\n",
      "    bear three sours with terminate talk not in the castle.\n",
      "  GRUMIO. Why, 'tis no time to be under the third time of this article\n",
      "    our apparel, and come again to the letter to her.  \n",
      "  PAGE. No, the trumpetian since is a poor pen that we have made them do\n",
      "    answer.\n",
      "  FIRST GENTLEMAN. 'Tis all the worst tale of the world, thou art a coward.\n",
      "  PAGE. I am sorry that that is not the very near his day to the\n",
      "    best of a man that makes wars and the most noble father.\n",
      "  PHILORLES. There is a rest of the way to see it. There is a most fearful\n",
      "    villain and a prince so belong to the cause. What says\n",
      "    my master?\n",
      "  PAGE. Here, sir, here comes Somerset.\n",
      "  SHALLOW. He will stand to her the wearing of a command, and send de fair\n",
      "    shall be a beast of treason. But there's another care not what\n",
      "    they have made them dangerous.\n",
      "  PAGE. We are then like an untheasy king, and a thief and the third boy\n",
      "    and three thousand ducats and then the third presently the\n",
      "    banished woman and the loss of a command. What the devil\n",
      "    have the place she never great revenues, and then they call him\n",
      "    to signify the English crown.\n",
      "  PISTOL. Come hither, gentlemen; I will have the better for thee.\n",
      "    This is a second challenge of a cunning. What sayest thou? Will he would\n",
      "    not stand by the deed? Is there no monster of it?\n",
      "  PISTOL. By his beard would say he had been the sharper through shows a poor\n",
      "    foot and a holy daughter.\n",
      "  PAGE. Sir, the best warrant of the rectors of good cousin would answer\n",
      "    his vice in his pocket, and that fell with the best of\n",
      "    his head with a foe window.\n",
      "  PRINCE JOHN. I have no more so great a king and she stirs newtly. I\n",
      "    was come off between the love of his countenance. I am assured\n",
      "    there is mine own tongue to be so far in one of them all.\n",
      "  Pedro. She shall not see the sentence.\n",
      "  PAGE. Why, 'tis a noble company to serve his price or no. We\n",
      "    shall be heard to him that hath no such matter.\n",
      "  SHALLOW. By the worthy heir, a most instant commendations\n",
      "    of France, and then the third doth come.\n",
      "  GRUMIO. Know thou, I can tell thee there is a good part of a cause, but\n",
      "    a word or two.\n",
      "\n",
      "          Enter SIR WILLIAM Stand near to MISTRESS GOVERN\n",
      "\n",
      "  KING HENRY. Now, for the like, so that be they send them down.\n",
      "  BERTRAM. My lord, the bridegroom is the wearing of my master.\n",
      "    I will know the court comfort that which is as sudden and mine host.\n",
      "  PAGE. Now, sir, the time is the widow of Page.\n",
      "  PISTOL. I think thou hast worth thy life and look on no town to a wicked\n",
      "    plain. I warrant thee wherefore thou art anciented to some\n",
      "    offence which may be seen and come to the King? I will not be found\n",
      "    so far that I have done the truth they will.\n",
      "  FIRST WATCHMAN. None, since this is a mere grace of her father.\n",
      "  SPEED. What a spirit? doth not be so beliver'd?\n",
      "  PAROLLES. I have stay'd for my father too this is true.\n",
      "  PAGE. Nor I, sir, that you have left and rest at midnight; for without\n",
      "    my chalice such a stock on you to say she was.\n",
      "  FIRST WITCH. Come you to bed, and through him to prison.\n",
      "\n",
      "                         Enter a SERVANT\n",
      "\n",
      "  SERVANT. Here, here comes the Duke.\n",
      "  PAROLLES. Break opservison.\n",
      "  PANDARUS. What a devil hast thou entertain more than this world?\n",
      "  PAROLLES. Why, 'tis no then adieu.\n",
      "  PANDARUS. What, must you see that laugh?\n",
      "  CLOWN. I will see her that have no more transform it too. There is\n",
      "    my sister be better spent to be of the deed.\n",
      "  CELIA. I'll ne'er be so far from heart and speak after more\n",
      "    for a present temperance. There is a while to say to me\n",
      "    that the remorse of virtue in the devil and all the other day that the\n",
      "    court which I can see a horse. My services are our eyes are not so doubtless\n",
      "    to make a queen's general.\n",
      "  CLOWN. Faith, for my sir, not of such antique lord.\n",
      "  OLIVIA. Sir, my brother will be a curse behind that hath\n",
      "    been beholding.\n",
      "  SPEED. Nay, but let him be brought fort; betimes, his\n",
      "    news with me to my wit, to be drunk some of it.\n",
      "  PANDARUS. You have spoke to them both. We shall see her to speak\n",
      "    of the life of a countenance. Be as angel of it, that he was from him\n",
      "    that you have to steel and serve your bounty. I will be angry. What\n",
      "    may not speak with me? I have a friend of my master; but\n",
      "    if I be any burnt, and so I pray you, for you are a good\n",
      "    foot at home.\n",
      "  ORLANDO. You have lack'd the officer, sir; and therefore it is the\n",
      "    contemplation of the trumpets she was truer than the Prince and Plantagenet\n",
      "    was a mistress that have the odds of me to my love and assay me. I shall\n",
      "    have no offence to make a peace to make a paper; if the sufferance\n",
      "    be his own leave, and that I am come to know him what they are.\n",
      "    'Tis a common best. I'll tell you what I have told you more.\n",
      "    I have lost a fairer father at home. I will warrant you, sir.\n",
      "  PANDARUS. Furruw, tell me true; I have longed nothing of it.\n",
      "  PANDARUS. Why, sir, he's in the rich man too.\n",
      "  APEMANTUS. I do not know thy mistress to be hanged and heart.\n",
      "  PAROLLES. This is a good dinner.\n",
      "  ROSALIND. No, sir, be merry, good father.\n",
      "  PAGE. How now, fair word! hear you so come to your house; if\n",
      "    that I were a bagger than that was it?\n",
      "  MALVOLIO. By my troth, I can be said to be married, and we shall be weigh'd\n",
      "    another part of the tedious spirit, nor to be the sea of the time to\n",
      "    be called but example, that he hath been slaughter that\n",
      "    an oracle.\n",
      "  MOTH. But I will forbear awhile as the orator.\n",
      "  MALVOLIO. Sir, a poor petty fellow; and then the poor man thou wert beloved out.\n",
      "  SIR TOBY. Come hither, sir; whom he goes bewing me.\n",
      "  PAGE. Here's a putting of the house in the field.\n",
      "  CELIA. Doth the old part of the thing, an abstlaion of the time, and\n",
      "    the angry man that died out of the world, an ass, a man may have a\n",
      "    fellow that would not stand to see his pocket, that the world be\n",
      "    again as truly as he seems to be of our gentlewoman.\n",
      "  PATROCLUS. Who's there? the fiend hath made thee the first thing.\n",
      "  AGUECHEEK. Is there no remedy?\n",
      "  ROSALIND. But that you are a red after that you may stay at home; in the\n",
      "    changeling, that he was in all man's a silken can be for a\n",
      "  rose with the house of a calf, being a great deadly torment of a\n",
      "    feather for a petty fellow that leaves follow a favour.\n",
      "\n",
      "                   Enter ISABELLA, CLAUDIO,\n",
      "                                           \"\n",
      "  CLOTEN. Sirrah, go to my lord.\n",
      "  PARIS. Sirrah, what say you?\n",
      "  SIR TOBY. Why, he's a dish he was an hose still when they see them be\n",
      "    spoke.\n",
      "  CLOWN. Do you like me, sir? what a first was there?\n",
      "  MALVOLIO. Sir, there is not strange and unnatural description.\n",
      "  IAGO. This is the people's being a man that I have told you,\n",
      "    and make her by your good report to you to stand by the\n",
      "    common.\n",
      "  MALVOLIO. Sir, my liege, the shepherd shall be the Prince and his maid\n",
      "    and a heart of man to make it a cellar.\n",
      "  POSTHUMUS. I think the man law in the right hand of the warrant.\n",
      "  CLOWN. How now, gentleman! How may we do for the lates?\n",
      "  SPEED. To the purpose to her in such a courtier, though it be a\n",
      "   semely post, and as many more sign of the true person, thou\n",
      "    hast burded a sea without any honest woman born.\n",
      "  CLOWN. I am no great cause to give me the recorded tunes; but\n",
      "    the time of the first company to the world. This is the devil and all the\n",
      "    wars do not requite it. I married them that they were not\n",
      "    a thousand than my betters should be a more respected of thy\n",
      "    woman. Here comes the least. Go to, sweet beard, let us to\n",
      "    the way with his former courtier. The devil was a willing\n",
      "    trumpery; and this shall ask him well. I will surgeon ye\n",
      "    to his good fellow.  \n",
      "  CLOWN. O thou valor.\n",
      "  CAIUS. You shall hear of it, master. I have the thrack than a\n",
      "    word. What is that anything to take the sea?\n",
      "  AUTOLYCUS. I thank you for that. I would you have a stand of\n",
      "    that which you have ta'en a woman to get a book of mortal parts.\n",
      "  ROSALIND. Nay, but hear you, gentlemen.\n",
      "  MRS. PAGE. Sir, the court is for my master; and yet, to\n",
      "    the devil here something for a pedifterman of the house,\n",
      "    for mine own part, if it be an enemy in the city it is the\n",
      "    one that hath a better love to the order of his purse. Give me the\n",
      "    while we shall need none with a poor fellow. What a spirit\n",
      "    comes here in the court with him?\n",
      "  SECOND LORD. He was best knock at a clouts to a lecherous ape.\n",
      "  PAGE. Why, there is no other rest, sir.\n",
      "  SIR TOBY. I pray thee, sir.\n",
      "  MALVOLIO. Fie, fie, fie, fie!\n",
      "  That sighin till the first knock heart in her most roaring\n",
      "  heart as honest as any thing they shall show the bear a great\n",
      "    company. Shall I be a wife with me, now this fellow was found?\n",
      "    and the man may be married, but when I was then ask me what I am.\n",
      "  ROSALIND. I have seen the king and Prince of Thencheefellow.\n",
      "  SECOND GENTLEMAN. I am sure you would be sail to be a secretance. We are\n",
      "    so far from hence with him, and the wedding of Marcius. I will\n",
      "    do you this present place to the recompetitor. This is the\n",
      "    servant that e'er I was. I shall be welcome to you, and being\n",
      "    tell me this is a present that ase me of your households, being to\n",
      "    seek them in the maids, and tell me of a shepherd's life, and I\n",
      "    thank you, sir, that you are now a man of this deserved spirit\n",
      "    of my master, come your ways, sir. I will go ne'er be the orchard whistle\n",
      "    that has the liver still with me.\n",
      "  CLIFFORD. These English cap to strike. I shall be secretly appeared.\n",
      "    I have seen the time to steal away. This is a passage of all\n",
      "    thing. Come, sir, come, you are too like a cease to come.\n",
      "  PAGE. Yes, faith, sir; and the archer is a box, sir, as if it be\n",
      "    a man of the world- anything, but the very truth that you\n",
      "    have a sin of it, that there will come anon. It is th\n"
     ]
    }
   ],
   "source": [
    "from hw3.answers import part1_generation_params\n",
    "\n",
    "start_seq, temperature = part1_generation_params()\n",
    "\n",
    "generated_sequence = charnn.generate_from_model(\n",
    "    model, start_seq, 10000, (char_to_idx,idx_to_char), T=temperature\n",
    ")\n",
    "\n",
    "print(generated_sequence)"
   ]
  },
  {
   "cell_type": "markdown",
   "metadata": {},
   "source": [
    "## Questions\n",
    "<a id=part1_9></a>"
   ]
  },
  {
   "cell_type": "markdown",
   "metadata": {},
   "source": [
    "**TODO** Answer the following questions. Write your answers in the appropriate variables in the module `hw3/answers.py`."
   ]
  },
  {
   "cell_type": "code",
   "execution_count": 22,
   "metadata": {
    "execution": {
     "iopub.execute_input": "2021-12-18T21:58:59.997169Z",
     "iopub.status.busy": "2021-12-18T21:58:59.997169Z",
     "iopub.status.idle": "2021-12-18T21:59:00.072129Z",
     "shell.execute_reply": "2021-12-18T21:59:00.072129Z"
    }
   },
   "outputs": [],
   "source": [
    "from cs3600.answers import display_answer\n",
    "import hw3.answers"
   ]
  },
  {
   "cell_type": "markdown",
   "metadata": {},
   "source": [
    "### Question 1\n",
    "Why do we split the corpus into sequences instead of training on the whole text?"
   ]
  },
  {
   "cell_type": "code",
   "execution_count": 23,
   "metadata": {
    "execution": {
     "iopub.execute_input": "2021-12-18T21:59:00.077116Z",
     "iopub.status.busy": "2021-12-18T21:59:00.076118Z",
     "iopub.status.idle": "2021-12-18T21:59:00.164144Z",
     "shell.execute_reply": "2021-12-18T21:59:00.163146Z"
    }
   },
   "outputs": [
    {
     "data": {
      "text/markdown": [
       "\n",
       "**Your answer:**<br>\n",
       "  If we try to load the complete corpus into an array/tensor/matrix etc, we might run out of memory<br>\n",
       "  due a enormous shape. furthermore, the most important feature of RNN is learning over time<br>\n",
       "  hence we maintain and control the sequence size so that our network will maintain<br> \n",
       "  the connections between the beginning of the text and its end.<br>\n",
       "  In addition, if inserting the complete corpus, we actually will force our<br>\n",
       "  model to overfit due to learning through memorization.\n",
       "\n",
       "\n"
      ],
      "text/plain": [
       "<IPython.core.display.Markdown object>"
      ]
     },
     "metadata": {},
     "output_type": "display_data"
    }
   ],
   "source": [
    "display_answer(hw3.answers.part1_q1)"
   ]
  },
  {
   "cell_type": "markdown",
   "metadata": {},
   "source": [
    "### Question 2\n",
    "How is it possible that the generated text clearly shows memory longer than the sequence length?"
   ]
  },
  {
   "cell_type": "code",
   "execution_count": 24,
   "metadata": {
    "execution": {
     "iopub.execute_input": "2021-12-18T21:59:00.168133Z",
     "iopub.status.busy": "2021-12-18T21:59:00.167136Z",
     "iopub.status.idle": "2021-12-18T21:59:00.248714Z",
     "shell.execute_reply": "2021-12-18T21:59:00.246720Z"
    }
   },
   "outputs": [
    {
     "data": {
      "text/markdown": [
       "\n",
       "**Your answer:**<br>\n",
       "Multilayer gated recurrent unit model, has \"memory\".\n",
       "therefore, in consists a memory gate which allows hidden state to either pass through time\n",
       "and be remembered, or otherwise be forgotten and not to pass the hidden state.\n",
       "this feature enables to model larger length of sequence.\n",
       "\n",
       "\n"
      ],
      "text/plain": [
       "<IPython.core.display.Markdown object>"
      ]
     },
     "metadata": {},
     "output_type": "display_data"
    }
   ],
   "source": [
    "display_answer(hw3.answers.part1_q2)"
   ]
  },
  {
   "cell_type": "markdown",
   "metadata": {},
   "source": [
    "### Question 3\n",
    "Why are we not shuffling the order of batches when training?"
   ]
  },
  {
   "cell_type": "code",
   "execution_count": 25,
   "metadata": {
    "execution": {
     "iopub.execute_input": "2021-12-18T21:59:00.260670Z",
     "iopub.status.busy": "2021-12-18T21:59:00.258666Z",
     "iopub.status.idle": "2021-12-18T21:59:00.370394Z",
     "shell.execute_reply": "2021-12-18T21:59:00.369364Z"
    }
   },
   "outputs": [
    {
     "data": {
      "text/markdown": [
       "\n",
       "**Your answer:**<br>\n",
       "as opposed to previous assingments, shuffeling the order of words actually matter.<br>\n",
       "their order gives the text its meaning thus shuffeling it will cause the model<br>\n",
       "learn some arbitrary permutation of words thus produce some unmeaningful text.<br>\n",
       "furthermore, shuffeling the batches meaning we detach the connections of the hidden statses\n",
       "meaning we ruin the model's memory.\n",
       ".\n"
      ],
      "text/plain": [
       "<IPython.core.display.Markdown object>"
      ]
     },
     "metadata": {},
     "output_type": "display_data"
    }
   ],
   "source": [
    "display_answer(hw3.answers.part1_q3)"
   ]
  },
  {
   "cell_type": "markdown",
   "metadata": {},
   "source": [
    "### Question 4\n",
    "1. Why do we lower the temperature for sampling (compared to the default of $1.0$)?\n",
    "2. What happens when the temperature is very high and why?\n",
    "3. What happens when the temperature is very low and why?"
   ]
  },
  {
   "cell_type": "code",
   "execution_count": 26,
   "metadata": {
    "execution": {
     "iopub.execute_input": "2021-12-18T21:59:00.373387Z",
     "iopub.status.busy": "2021-12-18T21:59:00.372355Z",
     "iopub.status.idle": "2021-12-18T21:59:00.432195Z",
     "shell.execute_reply": "2021-12-18T21:59:00.431198Z"
    }
   },
   "outputs": [
    {
     "data": {
      "text/markdown": [
       "\n",
       "**Your answer:**<br>\n",
       "1) The temperature addition meant to scale to logits in the softmax such that it will influence the output distribution.<br>\n",
       "we tend to lower the temperature below 1 in order to change the output distribution into 'harder' distribution - decreasing the lower probabilities candidates and increasing the higher ones.\n",
       "So, we keep decreasing it (to a point!) so that our model will likely to pick the best candidates, and not pick a random candidate with small but possible probability.<br>\n",
       "By doing this, we assume that our model is confident on his predictions, which may cause the following in Q3.<br><br>\n",
       "\n",
       "2)Higher temperatures will 'soften' the distribution by increasing the uniformness thus increasing randomness$\\rightarrow$ less probable options might be chosen.<br>\n",
       "if we keep increasing and increasing the temperature we will end up with completer random, unmeaningful and maybe gibrish text.<br><br>\n",
       "\n",
       "3) We want to decrease our temperature, its true, but only to certain extent because when decreasing too much we cause a very repetitive and uninteresting text.\n",
       "  we trying to achieve a production of diverse text, and by decreasing the Temperature too much, the probability \"mass\"<br>\n",
       "  will be concentrated in a few high probable tokens.<br>\n",
       "  this will cause the model selcet a number of candidates over and over again.\n"
      ],
      "text/plain": [
       "<IPython.core.display.Markdown object>"
      ]
     },
     "metadata": {},
     "output_type": "display_data"
    }
   ],
   "source": [
    "display_answer(hw3.answers.part1_q4)"
   ]
  }
 ],
 "metadata": {
  "kernelspec": {
   "display_name": "Python 3",
   "language": "python",
   "name": "python3"
  },
  "language_info": {
   "codemirror_mode": {
    "name": "ipython",
    "version": 3
   },
   "file_extension": ".py",
   "mimetype": "text/x-python",
   "name": "python",
   "nbconvert_exporter": "python",
   "pygments_lexer": "ipython3",
   "version": "3.8.6"
  }
 },
 "nbformat": 4,
 "nbformat_minor": 4
}
