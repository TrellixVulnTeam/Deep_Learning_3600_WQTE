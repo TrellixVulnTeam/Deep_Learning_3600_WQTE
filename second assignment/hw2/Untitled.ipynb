{
 "cells": [
  {
   "cell_type": "code",
   "execution_count": 2,
   "id": "1aa0976d-b9c2-48d6-877b-6e27c1debddb",
   "metadata": {},
   "outputs": [],
   "source": [
    "import torch\n",
    "import unittest\n",
    "torch.set_printoptions(precision=4)\n",
    "%load_ext autoreload\n",
    "%autoreload 2\n",
    "\n",
    "test = unittest.TestCase()"
   ]
  },
  {
   "cell_type": "code",
   "execution_count": 22,
   "id": "6f6e27b5-c79d-44f6-9760-8249f7a7401a",
   "metadata": {},
   "outputs": [],
   "source": [
    "filters_per_layer=[32,64]; layers_per_block=2;\n",
    "channels = [channel for channel in filters_per_layer for _ in range(layers_per_block)]"
   ]
  },
  {
   "cell_type": "code",
   "execution_count": 23,
   "id": "6eb3a98c-46bf-4102-9c0a-de1ac1d19262",
   "metadata": {},
   "outputs": [
    {
     "data": {
      "text/plain": [
       "[32, 32, 64, 64]"
      ]
     },
     "execution_count": 23,
     "metadata": {},
     "output_type": "execute_result"
    }
   ],
   "source": [
    "channels"
   ]
  },
  {
   "cell_type": "code",
   "execution_count": 11,
   "id": "c4742a40-ed92-435f-a636-f4f87a67fec5",
   "metadata": {},
   "outputs": [
    {
     "data": {
      "text/plain": [
       "{'negative_slope': 0.02}"
      ]
     },
     "execution_count": 11,
     "metadata": {},
     "output_type": "execute_result"
    }
   ],
   "source": [
    "dict(negative_slope=0.02)"
   ]
  },
  {
   "cell_type": "code",
   "execution_count": 13,
   "id": "596b470e-4911-499b-910d-98130fd3526a",
   "metadata": {},
   "outputs": [],
   "source": [
    "activation_params={'negative_slope': 0.02}"
   ]
  },
  {
   "cell_type": "code",
   "execution_count": 97,
   "id": "bad1e035-ea1e-4d63-b231-9805b0fd1693",
   "metadata": {},
   "outputs": [
    {
     "data": {
      "text/plain": [
       "tensor([[1., 1., 1.]])"
      ]
     },
     "execution_count": 97,
     "metadata": {},
     "output_type": "execute_result"
    }
   ],
   "source": [
    "torch.ones((torch.randn(1, 3).shape))"
   ]
  },
  {
   "cell_type": "code",
   "execution_count": 114,
   "id": "ec577034-19a3-4d34-9b69-d2519c8d9bf8",
   "metadata": {},
   "outputs": [
    {
     "data": {
      "text/plain": [
       "tensor([[2.5000, 0.0000, 0.0000]])"
      ]
     },
     "execution_count": 114,
     "metadata": {},
     "output_type": "execute_result"
    }
   ],
   "source": [
    "torch.bernoulli(torch.ones((torch.randn(1, 3).shape)) * 0.4)/ 0.4"
   ]
  },
  {
   "cell_type": "code",
   "execution_count": 122,
   "id": "fe85c080-01b7-4e98-aa62-ad85781ae4c6",
   "metadata": {},
   "outputs": [
    {
     "data": {
      "text/plain": [
       "tensor([[0., 0., 1.]])"
      ]
     },
     "execution_count": 122,
     "metadata": {},
     "output_type": "execute_result"
    }
   ],
   "source": [
    "torch.bernoulli(torch.full(x.shape, 1-p))"
   ]
  },
  {
   "cell_type": "code",
   "execution_count": 123,
   "id": "be88e4a7-22ba-410d-8cea-2a5774fbb5c7",
   "metadata": {},
   "outputs": [
    {
     "data": {
      "text/plain": [
       "tensor([[0.4000, 0.4000, 0.4000]])"
      ]
     },
     "execution_count": 123,
     "metadata": {},
     "output_type": "execute_result"
    }
   ],
   "source": [
    "torch.ones(x.size())*0.4"
   ]
  },
  {
   "cell_type": "code",
   "execution_count": null,
   "id": "85324bc2-c081-4d17-9ad5-4f2b03ee1e0b",
   "metadata": {},
   "outputs": [],
   "source": [
    "        mask = torch.ones(x.size())\n",
    "        if self.training_mode:\n",
    "            mask = torch.bernoulli(mask * self.p) * (1 / self.p)\n",
    "        self.grad_cache[\"mask\"] = mask"
   ]
  },
  {
   "cell_type": "code",
   "execution_count": 125,
   "id": "5d974a0f-e78b-4e47-8755-099a7635f68e",
   "metadata": {},
   "outputs": [
    {
     "data": {
      "text/plain": [
       "tensor([[0.4000, 0.4000, 0.4000]])"
      ]
     },
     "execution_count": 125,
     "metadata": {},
     "output_type": "execute_result"
    }
   ],
   "source": [
    "torch.ones(x.shape)*p"
   ]
  },
  {
   "cell_type": "markdown",
   "id": "6835d4d2-c7ec-475d-bd56-56ab9ac2cfee",
   "metadata": {},
   "source": [
    "x~(N,D)"
   ]
  },
  {
   "cell_type": "code",
   "execution_count": 92,
   "id": "8b28f98f-cdf9-45b0-9d21-4ee6c8c18900",
   "metadata": {},
   "outputs": [
    {
     "ename": "NameError",
     "evalue": "name 'x' is not defined",
     "output_type": "error",
     "traceback": [
      "\u001b[1;31m---------------------------------------------------------------------------\u001b[0m",
      "\u001b[1;31mNameError\u001b[0m                                 Traceback (most recent call last)",
      "\u001b[1;32mC:\\temp/ipykernel_10072/1214193689.py\u001b[0m in \u001b[0;36m<module>\u001b[1;34m\u001b[0m\n\u001b[1;32m----> 1\u001b[1;33m \u001b[0mmask\u001b[0m \u001b[1;33m=\u001b[0m \u001b[0mtorch\u001b[0m\u001b[1;33m.\u001b[0m\u001b[0mones\u001b[0m\u001b[1;33m(\u001b[0m\u001b[0mx\u001b[0m\u001b[1;33m.\u001b[0m\u001b[0msize\u001b[0m\u001b[1;33m(\u001b[0m\u001b[1;33m)\u001b[0m\u001b[1;33m)\u001b[0m\u001b[1;33m\u001b[0m\u001b[1;33m\u001b[0m\u001b[0m\n\u001b[0m\u001b[0;32m      2\u001b[0m \u001b[1;31m# if self.training_mode:\u001b[0m\u001b[1;33m\u001b[0m\u001b[1;33m\u001b[0m\u001b[1;33m\u001b[0m\u001b[0m\n\u001b[0;32m      3\u001b[0m \u001b[1;31m#         mask = torch.bernoulli(mask * self.p) * (1 / self.p)\u001b[0m\u001b[1;33m\u001b[0m\u001b[1;33m\u001b[0m\u001b[1;33m\u001b[0m\u001b[0m\n",
      "\u001b[1;31mNameError\u001b[0m: name 'x' is not defined"
     ]
    }
   ],
   "source": [
    "mask = torch.ones(()\n",
    "# if self.training_mode:\n",
    "#         mask = torch.bernoulli(mask * self.p) * (1 / self.p)"
   ]
  },
  {
   "cell_type": "code",
   "execution_count": null,
   "id": "d790f538-06f3-414d-b71f-f92a406e7468",
   "metadata": {},
   "outputs": [],
   "source": []
  },
  {
   "cell_type": "code",
   "execution_count": 88,
   "id": "97f99006-fc38-4e31-8142-80b05309e421",
   "metadata": {},
   "outputs": [],
   "source": [
    "loss = []"
   ]
  },
  {
   "cell_type": "code",
   "execution_count": 89,
   "id": "b22592f0-eaea-4023-8a9c-dca239561c2c",
   "metadata": {},
   "outputs": [
    {
     "ename": "NameError",
     "evalue": "name 'train_loss' is not defined",
     "output_type": "error",
     "traceback": [
      "\u001b[1;31m---------------------------------------------------------------------------\u001b[0m",
      "\u001b[1;31mNameError\u001b[0m                                 Traceback (most recent call last)",
      "\u001b[1;32mC:\\temp/ipykernel_10072/46888585.py\u001b[0m in \u001b[0;36m<module>\u001b[1;34m\u001b[0m\n\u001b[1;32m----> 1\u001b[1;33m \u001b[0mtrain_loss\u001b[0m\u001b[1;33m.\u001b[0m\u001b[0mextend\u001b[0m\u001b[1;33m(\u001b[0m\u001b[0mepoch_train_loss\u001b[0m\u001b[1;33m)\u001b[0m\u001b[1;33m\u001b[0m\u001b[1;33m\u001b[0m\u001b[0m\n\u001b[0m\u001b[0;32m      2\u001b[0m \u001b[0mtrain_acc\u001b[0m\u001b[1;33m.\u001b[0m\u001b[0mappend\u001b[0m\u001b[1;33m(\u001b[0m\u001b[0mepoch_train_acc\u001b[0m\u001b[1;33m)\u001b[0m\u001b[1;33m\u001b[0m\u001b[1;33m\u001b[0m\u001b[0m\n\u001b[0;32m      3\u001b[0m \u001b[0mtest_loss\u001b[0m\u001b[1;33m.\u001b[0m\u001b[0mextend\u001b[0m\u001b[1;33m(\u001b[0m\u001b[0mepoch_test_loss\u001b[0m\u001b[1;33m)\u001b[0m\u001b[1;33m\u001b[0m\u001b[1;33m\u001b[0m\u001b[0m\n",
      "\u001b[1;31mNameError\u001b[0m: name 'train_loss' is not defined"
     ]
    }
   ],
   "source": [
    "train_loss.extend(epoch_train_loss)\n",
    "train_acc.append(epoch_train_acc)\n",
    "test_loss.extend(epoch_test_loss)"
   ]
  },
  {
   "cell_type": "code",
   "execution_count": 90,
   "id": "3223f969-5e87-4360-bf28-00a2fd3ae37f",
   "metadata": {},
   "outputs": [
    {
     "data": {
      "text/plain": [
       "tensor([[-0.0348,  0.0688, -0.0386],\n",
       "        [-0.0307, -0.0849,  0.0316],\n",
       "        [-0.0785, -0.0214,  0.1797],\n",
       "        [-0.0188,  0.1002,  0.1016],\n",
       "        [-0.0018, -0.0023,  0.1652]])"
      ]
     },
     "execution_count": 90,
     "metadata": {},
     "output_type": "execute_result"
    }
   ],
   "source": [
    "torch.normal(mean = 0, std = 0.1,size = (5,3))"
   ]
  },
  {
   "cell_type": "code",
   "execution_count": 28,
   "id": "2e589fbf-6150-4171-a2ca-827c92c06cf7",
   "metadata": {},
   "outputs": [
    {
     "data": {
      "text/plain": [
       "tensor([1., 1., 1., 1., 1.])"
      ]
     },
     "execution_count": 28,
     "metadata": {},
     "output_type": "execute_result"
    }
   ],
   "source": [
    "torch.ones(5).clone() "
   ]
  },
  {
   "cell_type": "code",
   "execution_count": 24,
   "id": "11dd91d9-9efc-4026-9990-b0bf1f7e4660",
   "metadata": {},
   "outputs": [],
   "source": [
    "N = 5\n",
    "num_classes = 3\n",
    "scores = torch.randn(N, num_classes)\n",
    "labels = torch.randint(low=0, high=num_classes, size=(N,), dtype=torch.long)"
   ]
  },
  {
   "cell_type": "code",
   "execution_count": 24,
   "id": "3dbc5a69-dc40-4a9d-bc8f-119f9b4e5892",
   "metadata": {},
   "outputs": [],
   "source": [
    "lst =  [\n",
    "    2.297480821609497,\n",
    "      2.3283166885375977,\n",
    "      2.2985639572143555,\n",
    "      2.2980797290802,\n",
    "      2.304649829864502,\n",
    "      2.298022508621216,\n",
    "      2.2939400672912598,\n",
    "      2.3131401538848877,\n",
    "      2.297905921936035,\n",
    "      2.3099358081817627,\n",
    "      2.290327310562134,\n",
    "      2.29451584815979,\n",
    "      2.2960586547851562,\n",
    "      2.3086118698120117,\n",
    "      2.332392930984497,\n",
    "      2.310760021209717,\n",
    "      2.3077354431152344,\n",
    "      2.2975175380706787,\n",
    "      2.296952486038208,\n",
    "      2.3056766986846924,\n",
    "      2.3046977519989014,\n",
    "      2.292863130569458,\n",
    "      2.308523654937744,\n",
    "      2.3082327842712402,\n",
    "      2.302281141281128,\n",
    "      2.290247678756714,\n",
    "      2.2797582149505615,\n",
    "      2.3009538650512695,\n",
    "      2.296889543533325,\n",
    "      2.3175055980682373,\n",
    "      2.3155295848846436,\n",
    "      2.3057613372802734,\n",
    "      2.285447835922241,\n",
    "      2.296616792678833,\n",
    "      2.2868616580963135,\n",
    "      2.3095598220825195,\n",
    "      2.297133207321167,\n",
    "      2.275599479675293,\n",
    "      2.2735767364501953,\n",
    "      2.278671979904175,\n",
    "      2.2796595096588135,\n",
    "      2.2845401763916016,\n",
    "      2.2949635982513428,\n",
    "      2.2926597595214844,\n",
    "      2.2967782020568848,\n",
    "      2.2854559421539307,\n",
    "      2.275674343109131,\n",
    "      2.2954471111297607,\n",
    "      2.2936179637908936,\n",
    "      2.2896947860717773,\n",
    "      2.272848606109619,\n",
    "      2.263606071472168,\n",
    "      2.251047134399414,\n",
    "      2.274050235748291,\n",
    "      2.2778518199920654,\n",
    "      2.278243064880371,\n",
    "      2.2904818058013916,\n",
    "      2.2735979557037354,\n",
    "      2.2776076793670654,\n",
    "      2.267070770263672,\n",
    "      2.2825560569763184,\n",
    "      2.301093339920044,\n",
    "      2.2904932498931885,\n",
    "      2.2997422218322754,\n",
    "      2.2570602893829346,\n",
    "      2.3098745346069336,\n",
    "      2.273479461669922,\n",
    "      2.2752339839935303,\n",
    "      2.2862002849578857,\n",
    "      2.283393383026123,\n",
    "      2.268204689025879,\n",
    "      2.2302825450897217,\n",
    "      2.2681009769439697,\n",
    "      2.2639288902282715,\n",
    "      2.275212049484253,\n",
    "      2.299211263656616,\n",
    "      2.244154453277588,\n",
    "      2.290961265563965,\n",
    "      2.2880284786224365,\n",
    "      2.299560785293579,\n",
    "      2.2769789695739746,\n",
    "      2.2631726264953613,\n",
    "      2.2679638862609863,\n",
    "      2.267526865005493,\n",
    "      2.271793842315674,\n",
    "      2.260704755783081,\n",
    "      2.2628068923950195,\n",
    "      2.2439610958099365,\n",
    "      2.255812883377075,\n",
    "      2.2779183387756348,\n",
    "      2.2612667083740234,\n",
    "      2.262350082397461,\n",
    "      2.249350070953369,\n",
    "      2.259847402572632,\n",
    "      2.2513935565948486,\n",
    "      2.234605312347412,\n",
    "      2.2780232429504395,\n",
    "      2.2621567249298096,\n",
    "      2.2855629920959473,\n",
    "      2.264456033706665\n",
    "    ]"
   ]
  },
  {
   "cell_type": "code",
   "execution_count": 27,
   "id": "7a5e2b13-9521-4f09-bff1-499aa6d1de91",
   "metadata": {},
   "outputs": [
    {
     "data": {
      "text/plain": [
       "100"
      ]
     },
     "execution_count": 27,
     "metadata": {},
     "output_type": "execute_result"
    }
   ],
   "source": [
    "len(lst)"
   ]
  },
  {
   "cell_type": "code",
   "execution_count": 57,
   "id": "fad84514-57d1-4b89-bb34-cad1e2b00a06",
   "metadata": {},
   "outputs": [
    {
     "data": {
      "text/plain": [
       "tensor([-0.6681, -1.0278,  0.8946,  1.2852,  0.2756])"
      ]
     },
     "execution_count": 57,
     "metadata": {},
     "output_type": "execute_result"
    }
   ],
   "source": [
    "scores[torch.arange(N),labels]"
   ]
  },
  {
   "cell_type": "code",
   "execution_count": 58,
   "id": "43bf9195-a838-434f-8398-96c4c7f77cb6",
   "metadata": {},
   "outputs": [],
   "source": [
    "Xy = scores[torch.arange(N),labels]"
   ]
  },
  {
   "cell_type": "code",
   "execution_count": 49,
   "id": "c90b8de2-4b65-41c1-85da-4ce128924000",
   "metadata": {},
   "outputs": [
    {
     "data": {
      "text/plain": [
       "tensor([[-0.6681, -0.0795,  0.0357],\n",
       "        [ 0.4357, -1.0278,  0.5812],\n",
       "        [ 0.7705,  0.8946,  0.7237],\n",
       "        [ 0.5962, -1.4612,  1.2852],\n",
       "        [ 1.2422,  0.2756,  1.4620]])"
      ]
     },
     "execution_count": 49,
     "metadata": {},
     "output_type": "execute_result"
    }
   ],
   "source": [
    "scores[:]"
   ]
  },
  {
   "cell_type": "code",
   "execution_count": 43,
   "id": "9bbb7da0-10af-46f1-8706-64905cb386e6",
   "metadata": {},
   "outputs": [
    {
     "data": {
      "text/plain": [
       "tensor([[-0.6681, -0.0795, -0.0795,  0.0357, -0.0795]])"
      ]
     },
     "execution_count": 43,
     "metadata": {},
     "output_type": "execute_result"
    }
   ],
   "source": [
    "scores[0::5,labels]"
   ]
  },
  {
   "cell_type": "code",
   "execution_count": 40,
   "id": "1ab930ec-648e-4526-8004-e5a24c496460",
   "metadata": {},
   "outputs": [
    {
     "data": {
      "text/plain": [
       "tensor([-0.6681, -1.0278,  0.8946,  1.2852,  0.2756])"
      ]
     },
     "execution_count": 40,
     "metadata": {},
     "output_type": "execute_result"
    }
   ],
   "source": [
    "scores[torch.arange(N),labels]"
   ]
  },
  {
   "cell_type": "code",
   "execution_count": 67,
   "id": "a23efc13-21af-405f-accb-acb2bfdd906d",
   "metadata": {},
   "outputs": [
    {
     "data": {
      "text/plain": [
       "tensor([2.4726, 3.6921, 6.6693, 5.6626, 9.0950])"
      ]
     },
     "execution_count": 67,
     "metadata": {},
     "output_type": "execute_result"
    }
   ],
   "source": [
    "torch.exp(scores).sum(1)"
   ]
  },
  {
   "cell_type": "code",
   "execution_count": 72,
   "id": "c1ada659-e6a6-427c-853c-4f97d7d27e67",
   "metadata": {},
   "outputs": [
    {
     "data": {
      "text/plain": [
       "tensor([[0.2074, 0.3735, 0.4191],\n",
       "        [0.4188, 0.0969, 0.4843],\n",
       "        [0.3240, 0.3668, 0.3092],\n",
       "        [0.3206, 0.0410, 0.6385],\n",
       "        [0.3808, 0.1448, 0.4744]])"
      ]
     },
     "execution_count": 72,
     "metadata": {},
     "output_type": "execute_result"
    }
   ],
   "source": [
    "(torch.exp(scores).T / torch.exp(scores).sum(1)).T"
   ]
  },
  {
   "cell_type": "code",
   "execution_count": 66,
   "id": "c4b547f9-91e6-4487-8569-5cc2936ef1e0",
   "metadata": {},
   "outputs": [
    {
     "data": {
      "text/plain": [
       "tensor(1.4582)"
      ]
     },
     "execution_count": 66,
     "metadata": {},
     "output_type": "execute_result"
    }
   ],
   "source": [
    "(-scores[torch.arange(N),labels] + torch.log(torch.exp(scores).sum(1))).mean()"
   ]
  },
  {
   "cell_type": "code",
   "execution_count": null,
   "id": "752f59a7-9809-4629-bdeb-7f3355435a78",
   "metadata": {},
   "outputs": [],
   "source": [
    "N_range = torch.arange(N)\n",
    "x_y = x[N_range, y]\n",
    "log_sum = torch.log(torch.exp(x).sum(1))"
   ]
  },
  {
   "cell_type": "markdown",
   "id": "04696128-d9ea-4fd1-995e-91d521b9cf86",
   "metadata": {
    "tags": []
   },
   "source": [
    "### Cross-Entropy Loss\n",
    "\n",
    "As you know by know, cross-entropy is a common loss function for classification tasks.\n",
    "In class, we defined it as \n",
    "\n",
    "$$\\ell_{\\mathrm{CE}}(\\vec{y},\\hat{\\vec{y}}) = - {\\vectr{y}} \\log(\\hat{\\vec{y}})$$\n",
    "\n",
    "where $\\hat{\\vec{y}} = \\mathrm{softmax}(x)$ is a probability vector (the output of softmax on the class scores $\\vec{x}$) and the vector $\\vec{y}$ is a 1-hot encoded class label.\n",
    "\n",
    "However, it's tricky to compute the gradient of softmax, so instead we'll define a version of cross-entropy that produces the exact same output but works directly on the class scores $\\vec{x}$.\n",
    "\n",
    "We can write,\n",
    "$$\\begin{align}\n",
    "\\ell_{\\mathrm{CE}}(\\vec{y},\\hat{\\vec{y}}) &= - {\\vectr{y}} \\log(\\hat{\\vec{y}}) \n",
    "= - {\\vectr{y}} \\log\\left(\\mathrm{softmax}(\\vec{x})\\right) \\\\\n",
    "&= - {\\vectr{y}} \\log\\left(\\frac{e^{\\vec{x}}}{\\sum_k e^{x_k}}\\right) \\\\\n",
    "&= - \\log\\left(\\frac{e^{x_y}}{\\sum_k e^{x_k}}\\right) \\\\\n",
    "&= - \\left(\\log\\left(e^{x_y}\\right) - \\log\\left(\\sum_k e^{x_k}\\right)\\right)\\\\\n",
    "&= - x_y + \\log\\left(\\sum_k e^{x_k}\\right)\n",
    "\\end{align}$$\n",
    "\n",
    "Where the scalar $y$ is the correct class label, so $x_y$ is the correct class score.\n",
    "\n",
    "Note that this version of cross entropy is also what's [provided](https://pytorch.org/docs/stable/nn.html#crossentropyloss) by PyTorch's `nn` module."
   ]
  },
  {
   "cell_type": "code",
   "execution_count": 26,
   "id": "d6fce910-12d6-4af0-bb9a-5d0b6fbad0f8",
   "metadata": {},
   "outputs": [
    {
     "data": {
      "text/plain": [
       "tensor([0, 1, 1, 2, 1])"
      ]
     },
     "execution_count": 26,
     "metadata": {},
     "output_type": "execute_result"
    }
   ],
   "source": [
    "labels"
   ]
  },
  {
   "cell_type": "code",
   "execution_count": null,
   "id": "035d80e5-2ff9-41d5-8498-336255d2ce37",
   "metadata": {},
   "outputs": [],
   "source": [
    "N_range = torch.arange(N)\n",
    "x_y = x[N_range, y]\n",
    "log_sum = torch.log(torch.exp(x).sum(1))\n",
    "\n",
    "self.grad_cache[\"x\"] = x\n",
    "self.grad_cache[\"y\"] = y\n",
    "return sum(log_sum - x_y) / N"
   ]
  },
  {
   "cell_type": "markdown",
   "id": "e6cc2221-8bec-4e99-b5fa-aa8af9bc290a",
   "metadata": {},
   "source": [
    "1. the jacobian matrix is calculated by the all the partial derivatives of the output in respect to the input.\n",
    "the input dimension is 1024, number of samples is 128 and output dimension is 2048, \n",
    "than the entire input is a tensor of shape (128, 1024) and the entire output is a tensor of shape (128, 2048).\n",
    "the jacobian shape is $(128, 2048, 128, 1024)$.\n",
    "when we thought of the shape it was more logical for us that the calculation is applied for each instance separatly \n",
    "and then the shape will be $(128, 2048, 1024)$. since in former way we mix derivatives between instances and most of \n",
    "the derivatives are irrelevant, but when we check in pytorch we got the result we mention before  \n",
    "2. we represent each cell in our tensor in a single precision point of 4 bytes. than the the amount of memory needed in the RAM or GPU::\n",
    "$$\\begin{align}\n",
    "\\frac{(4 \\cdot 128\\cdot 2048 \\cdot 128 \\cdot 1024)} {(1024^3)} = 128 \\quad gigabytes\n",
    "\\end{align}$$\n"
   ]
  },
  {
   "cell_type": "code",
   "execution_count": 79,
   "id": "739de915-1d60-45c7-892d-7bedc34b2ccd",
   "metadata": {},
   "outputs": [],
   "source": [
    "from torch import autograd\n",
    "# autograd.functional.jacobian()"
   ]
  },
  {
   "cell_type": "code",
   "execution_count": 113,
   "id": "1383b8d2-b917-4984-8845-a2fd7d95a7ab",
   "metadata": {},
   "outputs": [
    {
     "ename": "RuntimeError",
     "evalue": "The size of tensor a (10) must match the size of tensor b (5) at non-singleton dimension 1",
     "output_type": "error",
     "traceback": [
      "\u001b[1;31m---------------------------------------------------------------------------\u001b[0m",
      "\u001b[1;31mRuntimeError\u001b[0m                              Traceback (most recent call last)",
      "\u001b[1;32mC:\\temp/ipykernel_9328/1800402868.py\u001b[0m in \u001b[0;36m<module>\u001b[1;34m\u001b[0m\n\u001b[0;32m      2\u001b[0m   \u001b[1;32mreturn\u001b[0m \u001b[1;36m2\u001b[0m \u001b[1;33m*\u001b[0m \u001b[0mx\u001b[0m\u001b[1;33m.\u001b[0m\u001b[0mexp\u001b[0m\u001b[1;33m(\u001b[0m\u001b[1;33m)\u001b[0m \u001b[1;33m+\u001b[0m \u001b[1;36m3\u001b[0m \u001b[1;33m*\u001b[0m \u001b[0my\u001b[0m\u001b[1;33m\u001b[0m\u001b[1;33m\u001b[0m\u001b[0m\n\u001b[0;32m      3\u001b[0m \u001b[0minputs\u001b[0m \u001b[1;33m=\u001b[0m \u001b[1;33m(\u001b[0m\u001b[0mtorch\u001b[0m\u001b[1;33m.\u001b[0m\u001b[0mrand\u001b[0m\u001b[1;33m(\u001b[0m\u001b[1;36m5\u001b[0m\u001b[1;33m,\u001b[0m\u001b[1;36m10\u001b[0m\u001b[1;33m)\u001b[0m\u001b[1;33m,\u001b[0m \u001b[0mtorch\u001b[0m\u001b[1;33m.\u001b[0m\u001b[0mrand\u001b[0m\u001b[1;33m(\u001b[0m\u001b[1;36m10\u001b[0m\u001b[1;33m,\u001b[0m\u001b[1;36m5\u001b[0m\u001b[1;33m)\u001b[0m\u001b[1;33m)\u001b[0m\u001b[1;33m\u001b[0m\u001b[1;33m\u001b[0m\u001b[0m\n\u001b[1;32m----> 4\u001b[1;33m \u001b[0mautograd\u001b[0m\u001b[1;33m.\u001b[0m\u001b[0mfunctional\u001b[0m\u001b[1;33m.\u001b[0m\u001b[0mjacobian\u001b[0m\u001b[1;33m(\u001b[0m\u001b[0mexp_adder\u001b[0m\u001b[1;33m,\u001b[0m \u001b[0minputs\u001b[0m\u001b[1;33m)\u001b[0m\u001b[1;33m[\u001b[0m\u001b[1;36m0\u001b[0m\u001b[1;33m]\u001b[0m\u001b[1;33m.\u001b[0m\u001b[0mshape\u001b[0m\u001b[1;33m\u001b[0m\u001b[1;33m\u001b[0m\u001b[0m\n\u001b[0m",
      "\u001b[1;32m~\\anaconda3\\envs\\cs3600\\lib\\site-packages\\torch\\autograd\\functional.py\u001b[0m in \u001b[0;36mjacobian\u001b[1;34m(func, inputs, create_graph, strict)\u001b[0m\n\u001b[0;32m    424\u001b[0m     \u001b[0minputs\u001b[0m \u001b[1;33m=\u001b[0m \u001b[0m_grad_preprocess\u001b[0m\u001b[1;33m(\u001b[0m\u001b[0minputs\u001b[0m\u001b[1;33m,\u001b[0m \u001b[0mcreate_graph\u001b[0m\u001b[1;33m=\u001b[0m\u001b[0mcreate_graph\u001b[0m\u001b[1;33m,\u001b[0m \u001b[0mneed_graph\u001b[0m\u001b[1;33m=\u001b[0m\u001b[1;32mTrue\u001b[0m\u001b[1;33m)\u001b[0m\u001b[1;33m\u001b[0m\u001b[1;33m\u001b[0m\u001b[0m\n\u001b[0;32m    425\u001b[0m \u001b[1;33m\u001b[0m\u001b[0m\n\u001b[1;32m--> 426\u001b[1;33m     \u001b[0moutputs\u001b[0m \u001b[1;33m=\u001b[0m \u001b[0mfunc\u001b[0m\u001b[1;33m(\u001b[0m\u001b[1;33m*\u001b[0m\u001b[0minputs\u001b[0m\u001b[1;33m)\u001b[0m\u001b[1;33m\u001b[0m\u001b[1;33m\u001b[0m\u001b[0m\n\u001b[0m\u001b[0;32m    427\u001b[0m     is_outputs_tuple, outputs = _as_tuple(outputs,\n\u001b[0;32m    428\u001b[0m                                           \u001b[1;34m\"outputs of the user-provided function\"\u001b[0m\u001b[1;33m,\u001b[0m\u001b[1;33m\u001b[0m\u001b[1;33m\u001b[0m\u001b[0m\n",
      "\u001b[1;32mC:\\temp/ipykernel_9328/1800402868.py\u001b[0m in \u001b[0;36mexp_adder\u001b[1;34m(x, y)\u001b[0m\n\u001b[0;32m      1\u001b[0m \u001b[1;32mdef\u001b[0m \u001b[0mexp_adder\u001b[0m\u001b[1;33m(\u001b[0m\u001b[0mx\u001b[0m\u001b[1;33m,\u001b[0m \u001b[0my\u001b[0m\u001b[1;33m)\u001b[0m\u001b[1;33m:\u001b[0m\u001b[1;33m\u001b[0m\u001b[1;33m\u001b[0m\u001b[0m\n\u001b[1;32m----> 2\u001b[1;33m   \u001b[1;32mreturn\u001b[0m \u001b[1;36m2\u001b[0m \u001b[1;33m*\u001b[0m \u001b[0mx\u001b[0m\u001b[1;33m.\u001b[0m\u001b[0mexp\u001b[0m\u001b[1;33m(\u001b[0m\u001b[1;33m)\u001b[0m \u001b[1;33m+\u001b[0m \u001b[1;36m3\u001b[0m \u001b[1;33m*\u001b[0m \u001b[0my\u001b[0m\u001b[1;33m\u001b[0m\u001b[1;33m\u001b[0m\u001b[0m\n\u001b[0m\u001b[0;32m      3\u001b[0m \u001b[0minputs\u001b[0m \u001b[1;33m=\u001b[0m \u001b[1;33m(\u001b[0m\u001b[0mtorch\u001b[0m\u001b[1;33m.\u001b[0m\u001b[0mrand\u001b[0m\u001b[1;33m(\u001b[0m\u001b[1;36m5\u001b[0m\u001b[1;33m,\u001b[0m\u001b[1;36m10\u001b[0m\u001b[1;33m)\u001b[0m\u001b[1;33m,\u001b[0m \u001b[0mtorch\u001b[0m\u001b[1;33m.\u001b[0m\u001b[0mrand\u001b[0m\u001b[1;33m(\u001b[0m\u001b[1;36m10\u001b[0m\u001b[1;33m,\u001b[0m\u001b[1;36m5\u001b[0m\u001b[1;33m)\u001b[0m\u001b[1;33m)\u001b[0m\u001b[1;33m\u001b[0m\u001b[1;33m\u001b[0m\u001b[0m\n\u001b[0;32m      4\u001b[0m \u001b[0mautograd\u001b[0m\u001b[1;33m.\u001b[0m\u001b[0mfunctional\u001b[0m\u001b[1;33m.\u001b[0m\u001b[0mjacobian\u001b[0m\u001b[1;33m(\u001b[0m\u001b[0mexp_adder\u001b[0m\u001b[1;33m,\u001b[0m \u001b[0minputs\u001b[0m\u001b[1;33m)\u001b[0m\u001b[1;33m[\u001b[0m\u001b[1;36m0\u001b[0m\u001b[1;33m]\u001b[0m\u001b[1;33m.\u001b[0m\u001b[0mshape\u001b[0m\u001b[1;33m\u001b[0m\u001b[1;33m\u001b[0m\u001b[0m\n",
      "\u001b[1;31mRuntimeError\u001b[0m: The size of tensor a (10) must match the size of tensor b (5) at non-singleton dimension 1"
     ]
    }
   ],
   "source": [
    " def exp_adder(x, y):\n",
    "...   return 2 * x.exp() + 3 * y\n",
    "inputs = (torch.rand(5,10), torch.rand(10,5))\n",
    "autograd.functional.jacobian(exp_adder, inputs)[0].shape"
   ]
  },
  {
   "cell_type": "code",
   "execution_count": 95,
   "id": "f53db5de-7a26-4688-a3fe-66e2cded088d",
   "metadata": {},
   "outputs": [
    {
     "ename": "KeyboardInterrupt",
     "evalue": "",
     "output_type": "error",
     "traceback": [
      "\u001b[1;31m---------------------------------------------------------------------------\u001b[0m",
      "\u001b[1;31mKeyboardInterrupt\u001b[0m                         Traceback (most recent call last)",
      "\u001b[1;32mC:\\temp/ipykernel_9328/495330567.py\u001b[0m in \u001b[0;36m<module>\u001b[1;34m\u001b[0m\n\u001b[1;32m----> 1\u001b[1;33m \u001b[0mautograd\u001b[0m\u001b[1;33m.\u001b[0m\u001b[0mfunctional\u001b[0m\u001b[1;33m.\u001b[0m\u001b[0mjacobian\u001b[0m\u001b[1;33m(\u001b[0m\u001b[0mexp_adder\u001b[0m\u001b[1;33m,\u001b[0m \u001b[0minputs\u001b[0m\u001b[1;33m)\u001b[0m\u001b[1;33m[\u001b[0m\u001b[1;36m0\u001b[0m\u001b[1;33m]\u001b[0m\u001b[1;33m\u001b[0m\u001b[1;33m\u001b[0m\u001b[0m\n\u001b[0m",
      "\u001b[1;32m~\\anaconda3\\envs\\cs3600\\lib\\site-packages\\torch\\autograd\\functional.py\u001b[0m in \u001b[0;36mjacobian\u001b[1;34m(func, inputs, create_graph, strict)\u001b[0m\n\u001b[0;32m    435\u001b[0m         \u001b[0mjac_i\u001b[0m \u001b[1;33m=\u001b[0m \u001b[0mtuple\u001b[0m\u001b[1;33m(\u001b[0m\u001b[1;33m[\u001b[0m\u001b[1;33m]\u001b[0m \u001b[1;32mfor\u001b[0m \u001b[0m_\u001b[0m \u001b[1;32min\u001b[0m \u001b[0mrange\u001b[0m\u001b[1;33m(\u001b[0m\u001b[0mlen\u001b[0m\u001b[1;33m(\u001b[0m\u001b[0minputs\u001b[0m\u001b[1;33m)\u001b[0m\u001b[1;33m)\u001b[0m\u001b[1;33m)\u001b[0m\u001b[1;33m\u001b[0m\u001b[1;33m\u001b[0m\u001b[0m\n\u001b[0;32m    436\u001b[0m         \u001b[1;32mfor\u001b[0m \u001b[0mj\u001b[0m \u001b[1;32min\u001b[0m \u001b[0mrange\u001b[0m\u001b[1;33m(\u001b[0m\u001b[0mout\u001b[0m\u001b[1;33m.\u001b[0m\u001b[0mnelement\u001b[0m\u001b[1;33m(\u001b[0m\u001b[1;33m)\u001b[0m\u001b[1;33m)\u001b[0m\u001b[1;33m:\u001b[0m\u001b[1;33m\u001b[0m\u001b[1;33m\u001b[0m\u001b[0m\n\u001b[1;32m--> 437\u001b[1;33m             vj = _autograd_grad((out.reshape(-1)[j],), inputs,\n\u001b[0m\u001b[0;32m    438\u001b[0m                                 retain_graph=True, create_graph=create_graph)\n\u001b[0;32m    439\u001b[0m \u001b[1;33m\u001b[0m\u001b[0m\n",
      "\u001b[1;32m~\\anaconda3\\envs\\cs3600\\lib\\site-packages\\torch\\autograd\\functional.py\u001b[0m in \u001b[0;36m_autograd_grad\u001b[1;34m(outputs, inputs, grad_outputs, create_graph, retain_graph)\u001b[0m\n\u001b[0;32m    143\u001b[0m         \u001b[1;32mreturn\u001b[0m \u001b[1;33m(\u001b[0m\u001b[1;32mNone\u001b[0m\u001b[1;33m,\u001b[0m\u001b[1;33m)\u001b[0m \u001b[1;33m*\u001b[0m \u001b[0mlen\u001b[0m\u001b[1;33m(\u001b[0m\u001b[0minputs\u001b[0m\u001b[1;33m)\u001b[0m\u001b[1;33m\u001b[0m\u001b[1;33m\u001b[0m\u001b[0m\n\u001b[0;32m    144\u001b[0m     \u001b[1;32melse\u001b[0m\u001b[1;33m:\u001b[0m\u001b[1;33m\u001b[0m\u001b[1;33m\u001b[0m\u001b[0m\n\u001b[1;32m--> 145\u001b[1;33m         return torch.autograd.grad(new_outputs, inputs, new_grad_outputs, allow_unused=True,\n\u001b[0m\u001b[0;32m    146\u001b[0m                                    create_graph=create_graph, retain_graph=retain_graph)\n\u001b[0;32m    147\u001b[0m \u001b[1;33m\u001b[0m\u001b[0m\n",
      "\u001b[1;32m~\\anaconda3\\envs\\cs3600\\lib\\site-packages\\torch\\autograd\\__init__.py\u001b[0m in \u001b[0;36mgrad\u001b[1;34m(outputs, inputs, grad_outputs, retain_graph, create_graph, only_inputs, allow_unused)\u001b[0m\n\u001b[0;32m    188\u001b[0m         \u001b[0mretain_graph\u001b[0m \u001b[1;33m=\u001b[0m \u001b[0mcreate_graph\u001b[0m\u001b[1;33m\u001b[0m\u001b[1;33m\u001b[0m\u001b[0m\n\u001b[0;32m    189\u001b[0m \u001b[1;33m\u001b[0m\u001b[0m\n\u001b[1;32m--> 190\u001b[1;33m     return Variable._execution_engine.run_backward(\n\u001b[0m\u001b[0;32m    191\u001b[0m         \u001b[0moutputs\u001b[0m\u001b[1;33m,\u001b[0m \u001b[0mgrad_outputs\u001b[0m\u001b[1;33m,\u001b[0m \u001b[0mretain_graph\u001b[0m\u001b[1;33m,\u001b[0m \u001b[0mcreate_graph\u001b[0m\u001b[1;33m,\u001b[0m\u001b[1;33m\u001b[0m\u001b[1;33m\u001b[0m\u001b[0m\n\u001b[0;32m    192\u001b[0m         inputs, allow_unused)\n",
      "\u001b[1;31mKeyboardInterrupt\u001b[0m: "
     ]
    }
   ],
   "source": [
    "autograd.functional.jacobian(exp_adder, inputs)[0]"
   ]
  },
  {
   "cell_type": "code",
   "execution_count": null,
   "id": "be46f937-4ba5-48ca-ae7f-621b15750b3f",
   "metadata": {},
   "outputs": [],
   "source": [
    "torch.autograd.grad("
   ]
  },
  {
   "cell_type": "code",
   "execution_count": 100,
   "id": "d79c9847-6eb2-491c-8a1f-c04a1700ecb1",
   "metadata": {},
   "outputs": [
    {
     "data": {
      "text/plain": [
       "torch.Size([2, 1])"
      ]
     },
     "execution_count": 100,
     "metadata": {},
     "output_type": "execute_result"
    }
   ],
   "source": [
    "import numpy as np\n",
    "x = np.arange(1,3,1)\n",
    "x = torch.from_numpy(x).reshape(len(x),1)\n",
    "x = x.float()\n",
    "x.requires_grad = True\n",
    "x.shape\n",
    "# w1 = torch.randn((2,2), requires_grad = True)\n",
    "# y = w1@x\n",
    "\n",
    "# # Compute gradients of w1 . x\n",
    "# ... \n",
    "# y[0].backward(retain_graph=True)\n",
    "# w1.grad\n",
    "# y[1].backward(retain_graph=True)\n",
    "# w1.grad"
   ]
  },
  {
   "cell_type": "markdown",
   "id": "b80a2a12-42e8-4460-8151-ecb1dd74ab68",
   "metadata": {},
   "source": [
    "$(num of samples) \\cdot  (num of batches) \\cdot (features_{in}) \\cdot (features_{out}) \\cdot 4(bytes)\n",
    "= 4 \\cdot 128 \\cdot 128 \\cdot 1024 \\cdot 2048 = 2^2 \\cdot 2^7 \\cdot 2^7 \\cdot 2^{10} \\cdot 2^{11} = 2^{37}\n",
    "= 2^7 \\cdot 2^{30} = 128 \\cdot 2^{30} = ~ 128GB$"
   ]
  },
  {
   "cell_type": "code",
   "execution_count": 114,
   "id": "e2107217-6d2d-49c7-bc64-7f1caa52555e",
   "metadata": {},
   "outputs": [
    {
     "data": {
      "text/plain": [
       "37"
      ]
     },
     "execution_count": 114,
     "metadata": {},
     "output_type": "execute_result"
    }
   ],
   "source": [
    "16+21"
   ]
  },
  {
   "cell_type": "code",
   "execution_count": 115,
   "id": "65489194-160b-4745-99ca-10dbb452eee7",
   "metadata": {},
   "outputs": [
    {
     "data": {
      "text/plain": [
       "128"
      ]
     },
     "execution_count": 115,
     "metadata": {},
     "output_type": "execute_result"
    }
   ],
   "source": [
    "2**7"
   ]
  },
  {
   "cell_type": "code",
   "execution_count": 116,
   "id": "d788628c-2d2a-40fd-bef8-c6530d6ad66e",
   "metadata": {},
   "outputs": [
    {
     "data": {
      "text/plain": [
       "11.313708498984761"
      ]
     },
     "execution_count": 116,
     "metadata": {},
     "output_type": "execute_result"
    }
   ],
   "source": [
    "128**0.5"
   ]
  },
  {
   "cell_type": "code",
   "execution_count": 121,
   "id": "08129905-1215-47c1-b80a-7b24ddb96829",
   "metadata": {},
   "outputs": [
    {
     "data": {
      "text/plain": [
       "1024"
      ]
     },
     "execution_count": 121,
     "metadata": {},
     "output_type": "execute_result"
    }
   ],
   "source": [
    "2**10"
   ]
  },
  {
   "cell_type": "code",
   "execution_count": 127,
   "id": "6cbf3e80-de1c-4b40-beaf-779d11ca4f2c",
   "metadata": {},
   "outputs": [],
   "source": [
    "import os\n",
    "import numpy as np\n",
    "import matplotlib.pyplot as plt\n",
    "import unittest\n",
    "import torch\n",
    "import torchvision\n",
    "import torchvision.transforms as tvtf\n",
    "seed = 42\n",
    "plt.rcParams.update({'font.size': 12})\n",
    "test = unittest.TestCase()"
   ]
  },
  {
   "cell_type": "code",
   "execution_count": 132,
   "id": "1807dbde-f9ed-4bd6-ac07-05e67e6511b8",
   "metadata": {},
   "outputs": [],
   "source": [
    "p = torch.randn(500, 10)\n",
    "dp = torch.randn(*p.shape)*2"
   ]
  },
  {
   "cell_type": "code",
   "execution_count": 135,
   "id": "4a7eb7d3-5067-4a44-9fe3-dae4a3b27a54",
   "metadata": {},
   "outputs": [
    {
     "data": {
      "text/plain": [
       "torch.Size([500, 10])"
      ]
     },
     "execution_count": 135,
     "metadata": {},
     "output_type": "execute_result"
    }
   ],
   "source": [
    "p.shape"
   ]
  },
  {
   "cell_type": "code",
   "execution_count": 136,
   "id": "03561109-19ca-4f54-9aba-8664df804706",
   "metadata": {},
   "outputs": [
    {
     "data": {
      "text/plain": [
       "torch.Size([500, 10])"
      ]
     },
     "execution_count": 136,
     "metadata": {},
     "output_type": "execute_result"
    }
   ],
   "source": [
    ".view(X.shape[0], -1)"
   ]
  },
  {
   "cell_type": "code",
   "execution_count": 139,
   "id": "4e6ae399-2999-45ed-aab5-2971c694a581",
   "metadata": {},
   "outputs": [],
   "source": [
    "sd = torch.randn(10, 3,32)"
   ]
  },
  {
   "cell_type": "code",
   "execution_count": 141,
   "id": "303f2590-831f-4b71-ac58-84b6989142aa",
   "metadata": {},
   "outputs": [
    {
     "data": {
      "text/plain": [
       "torch.Size([10, 96])"
      ]
     },
     "execution_count": 141,
     "metadata": {},
     "output_type": "execute_result"
    }
   ],
   "source": [
    "sd.view(sd.shape[0], -1).shape"
   ]
  },
  {
   "cell_type": "code",
   "execution_count": 143,
   "id": "8daf656e-b1ca-4551-a498-8af43154e75e",
   "metadata": {},
   "outputs": [
    {
     "data": {
      "text/plain": [
       "torch.Size([10, 96])"
      ]
     },
     "execution_count": 143,
     "metadata": {},
     "output_type": "execute_result"
    }
   ],
   "source": [
    "sd.reshape(sd.shape[0],-1).shape"
   ]
  },
  {
   "cell_type": "code",
   "execution_count": 144,
   "id": "4738f3a1-bb69-4d08-b1cf-87a0b89876e8",
   "metadata": {},
   "outputs": [
    {
     "ename": "NameError",
     "evalue": "name 'y_pred' is not defined",
     "output_type": "error",
     "traceback": [
      "\u001b[1;31m---------------------------------------------------------------------------\u001b[0m",
      "\u001b[1;31mNameError\u001b[0m                                 Traceback (most recent call last)",
      "\u001b[1;32mC:\\temp/ipykernel_9328/4217226209.py\u001b[0m in \u001b[0;36m<module>\u001b[1;34m\u001b[0m\n\u001b[1;32m----> 1\u001b[1;33m \u001b[0mnum_correct\u001b[0m \u001b[1;33m=\u001b[0m \u001b[0mint\u001b[0m\u001b[1;33m(\u001b[0m\u001b[1;33m(\u001b[0m\u001b[0my\u001b[0m \u001b[1;33m==\u001b[0m \u001b[0my_pred\u001b[0m\u001b[1;33m)\u001b[0m\u001b[1;33m.\u001b[0m\u001b[0msum\u001b[0m\u001b[1;33m(\u001b[0m\u001b[1;33m)\u001b[0m\u001b[1;33m)\u001b[0m\u001b[1;33m\u001b[0m\u001b[1;33m\u001b[0m\u001b[0m\n\u001b[0m",
      "\u001b[1;31mNameError\u001b[0m: name 'y_pred' is not defined"
     ]
    }
   ],
   "source": [
    "num_correct = int((y == y_pred).sum())"
   ]
  },
  {
   "cell_type": "code",
   "execution_count": 162,
   "id": "f6c3b531-b24d-4f18-ab95-84de7b41108e",
   "metadata": {},
   "outputs": [],
   "source": [
    "y = torch.randn(10)\n",
    "z = torch.randn(10,30)"
   ]
  },
  {
   "cell_type": "code",
   "execution_count": 163,
   "id": "4c171385-e463-4437-96d0-27595ff7c250",
   "metadata": {},
   "outputs": [
    {
     "data": {
      "text/plain": [
       "10"
      ]
     },
     "execution_count": 163,
     "metadata": {},
     "output_type": "execute_result"
    }
   ],
   "source": [
    "(y == y).sum().item()"
   ]
  },
  {
   "cell_type": "code",
   "execution_count": 164,
   "id": "9552fcee-c287-47e9-8dfd-bb82cb0853d5",
   "metadata": {},
   "outputs": [
    {
     "data": {
      "text/plain": [
       "tensor([[ 1.2419e+00,  6.2056e-01, -1.1865e+00, -6.7559e-01, -1.9728e+00,\n",
       "          9.4332e-01,  1.0080e-01,  7.9020e-01,  4.4511e-01,  5.4797e-01,\n",
       "         -8.7511e-02, -3.2268e-01,  3.1893e-01, -9.5148e-01,  3.2177e-01,\n",
       "          6.5429e-01,  9.1643e-01, -7.5951e-01,  1.6313e+00, -5.0054e-01,\n",
       "         -3.5658e+00,  9.1203e-01,  1.3815e+00, -7.3424e-02,  8.8573e-01,\n",
       "          7.9249e-01, -7.5960e-01,  1.6330e+00,  9.8931e-01, -1.4648e+00],\n",
       "        [-2.1900e+00,  2.7512e-01,  5.0552e-01,  9.6512e-01, -6.0260e-01,\n",
       "          1.5381e-01,  9.0454e-02, -2.2326e-04, -5.6213e-01, -1.3604e-01,\n",
       "          2.9462e-01,  3.3472e-01, -7.8592e-01,  2.0474e+00, -1.7926e+00,\n",
       "          1.0735e-01,  1.8690e-02, -1.1196e+00,  1.0418e+00,  7.2474e-01,\n",
       "         -6.1551e-01,  6.2461e-01, -5.5698e-01,  1.0178e-01,  7.3933e-02,\n",
       "          1.1370e+00, -2.9739e-01,  5.3011e-01, -8.5532e-01,  1.2828e-01],\n",
       "        [ 1.1826e+00,  3.5237e-01,  2.1257e+00,  1.8337e-01,  7.2058e-02,\n",
       "         -3.5370e-01, -1.9184e+00,  1.0214e+00,  1.2360e+00, -1.0032e+00,\n",
       "         -1.0731e-01,  1.8251e+00, -3.9673e-01,  6.9590e-01,  1.8086e-01,\n",
       "         -5.4313e-01,  7.8567e-01, -1.9211e+00,  1.3948e-01,  1.1833e+00,\n",
       "          1.3122e+00, -1.1879e+00,  5.1915e-01, -7.1800e-01,  5.9836e-01,\n",
       "         -5.7797e-01, -2.0948e+00,  2.1985e-01,  1.6830e+00,  2.0028e+00],\n",
       "        [-2.4937e-01, -9.6070e-01,  1.4119e+00, -1.3813e+00,  2.3627e+00,\n",
       "         -2.3098e-01, -4.2467e-01,  7.8166e-01, -7.3462e-01, -5.1708e-01,\n",
       "         -4.5755e-01, -3.1303e-01, -1.5431e+00,  1.4569e-01,  1.4608e+00,\n",
       "         -2.1946e+00,  9.9935e-01,  1.5926e+00, -1.6031e+00, -3.6574e-01,\n",
       "          2.1660e-01,  4.5443e-01, -1.3098e+00,  1.3496e+00, -7.4579e-01,\n",
       "          1.3178e+00, -8.4030e-02,  2.5994e+00,  1.3708e-02,  1.0044e+00],\n",
       "        [-5.0450e-01, -8.9769e-02, -5.6542e-02, -3.0020e-01, -7.7652e-01,\n",
       "         -1.2570e+00,  4.8174e-01, -1.5424e+00, -9.4300e-01,  1.1534e+00,\n",
       "         -8.2737e-01,  1.0292e+00, -1.0479e+00,  9.3933e-01,  5.2992e-02,\n",
       "         -2.4488e+00,  8.1098e-01, -2.7587e-01,  9.5910e-01, -1.2921e+00,\n",
       "         -1.6736e-02, -1.3277e+00, -1.2852e+00, -1.3162e+00, -4.5695e-01,\n",
       "          1.3762e-01, -1.4061e+00,  8.4152e-01, -4.1695e-01,  7.9336e-02],\n",
       "        [ 1.2236e+00,  1.0356e+00, -6.8459e-01, -1.1029e+00, -1.2285e-01,\n",
       "          9.7937e-01,  1.1274e+00,  1.3666e+00, -5.7852e-01, -1.0489e+00,\n",
       "          1.7525e+00,  1.3388e+00,  2.2409e-01,  5.4473e-01, -1.2876e+00,\n",
       "         -1.0222e+00,  1.3702e-01,  1.5912e+00, -1.5151e-01,  7.5217e-01,\n",
       "          1.1050e+00,  1.6170e+00,  1.0052e+00,  4.4079e-01,  2.1539e+00,\n",
       "          1.0432e-01,  1.8538e+00, -1.2243e+00,  2.0403e+00, -3.1882e-01],\n",
       "        [ 8.3973e-01, -2.9776e-01,  1.1094e+00,  5.8056e-01, -1.2542e+00,\n",
       "          1.4196e-01, -1.4861e+00, -1.5346e+00,  9.8601e-01,  1.3073e-01,\n",
       "         -9.8275e-01, -1.2725e-01,  9.2324e-01,  6.3552e-01,  3.9913e-01,\n",
       "          1.1866e+00, -9.0770e-01,  8.9681e-01,  9.4471e-01, -7.7601e-01,\n",
       "         -5.2613e-01,  2.5168e-01,  1.6265e+00,  1.4692e+00, -5.6890e-01,\n",
       "          4.2516e-01,  4.4892e-01,  1.9390e+00, -2.7649e-01,  5.5159e-02],\n",
       "        [-8.3042e-01,  4.0417e-01, -6.3148e-01, -1.5591e+00,  1.3655e+00,\n",
       "          4.2651e-01,  5.5413e-01,  2.6701e-01,  2.7560e+00,  8.5350e-01,\n",
       "          2.0517e+00, -6.5190e-01,  1.5072e+00, -4.8671e-01, -1.2469e+00,\n",
       "         -9.9968e-01,  1.7074e+00,  1.0526e-01,  1.9827e-01, -4.5764e-03,\n",
       "          8.1842e-02,  7.7244e-01,  5.7903e-01, -9.2060e-01,  4.4752e-01,\n",
       "         -6.5421e-01,  7.0710e-01, -7.9467e-01, -6.6743e-03,  3.8676e-01],\n",
       "        [ 1.3629e+00, -5.4724e-01, -8.2393e-01, -1.1672e+00, -6.3456e-01,\n",
       "          1.1048e+00,  8.4070e-01, -1.3135e+00, -1.9906e-01, -1.4842e+00,\n",
       "          6.0371e-01, -7.4742e-01, -1.0393e+00,  9.9226e-01,  7.2933e-01,\n",
       "         -4.3861e-01,  6.1610e-01,  1.2983e+00, -1.9535e+00, -4.0166e-01,\n",
       "          7.7385e-01, -2.6836e-01,  1.2545e-02, -2.3609e-01, -1.9843e+00,\n",
       "          1.1076e+00,  7.3480e-01, -4.4741e-01, -9.7801e-02, -3.7448e-01],\n",
       "        [-1.2228e-01,  1.1821e+00, -3.2491e-01, -1.4114e+00,  7.3351e-02,\n",
       "         -1.5928e+00, -5.6069e-01,  7.0582e-01, -1.1883e+00,  4.8938e-01,\n",
       "          5.4585e-01, -1.1419e+00, -1.4056e+00,  1.4847e-01,  1.7553e+00,\n",
       "         -3.2210e-01, -3.4105e-01, -6.8601e-01, -2.2641e+00, -2.2947e-01,\n",
       "          1.2131e+00, -4.1441e-01,  2.6719e+00,  1.6243e+00,  1.0329e+00,\n",
       "          7.4527e-01,  6.5302e-01, -1.5608e-01, -2.0249e+00, -2.5070e-01]])"
      ]
     },
     "execution_count": 164,
     "metadata": {},
     "output_type": "execute_result"
    }
   ],
   "source": [
    "z"
   ]
  },
  {
   "cell_type": "code",
   "execution_count": 165,
   "id": "d1681ae6-e4aa-4eaf-96bf-3064d9f62215",
   "metadata": {},
   "outputs": [
    {
     "data": {
      "text/plain": [
       "tensor([27, 13,  2, 27,  9, 24, 27,  8,  0, 22])"
      ]
     },
     "execution_count": 165,
     "metadata": {},
     "output_type": "execute_result"
    }
   ],
   "source": [
    "z.argmax(axis = 1)"
   ]
  },
  {
   "cell_type": "code",
   "execution_count": 53,
   "id": "c467a078-c304-4a6b-b68b-6ef79a1849c9",
   "metadata": {},
   "outputs": [],
   "source": [
    "d = None"
   ]
  },
  {
   "cell_type": "code",
   "execution_count": 54,
   "id": "10069a07-7253-45eb-b8cb-75c48b0a529a",
   "metadata": {},
   "outputs": [
    {
     "data": {
      "text/plain": [
       "False"
      ]
     },
     "execution_count": 54,
     "metadata": {},
     "output_type": "execute_result"
    }
   ],
   "source": [
    "d == 5"
   ]
  },
  {
   "cell_type": "code",
   "execution_count": 67,
   "id": "8e0bc7ee-25bd-4c90-bf10-e26cfe279e3b",
   "metadata": {},
   "outputs": [
    {
     "data": {
      "text/plain": [
       "[3.1217000484466553, 4.882199764251709, 3.285900115966797]"
      ]
     },
     "execution_count": 67,
     "metadata": {},
     "output_type": "execute_result"
    }
   ],
   "source": [
    "torch.stack([torch.tensor(3.1217), torch.tensor(4.8822), torch.tensor(3.2859)]).tolist()"
   ]
  },
  {
   "cell_type": "code",
   "execution_count": 59,
   "id": "ad59f9d2-003e-46e4-a7ef-5bb1b701010f",
   "metadata": {},
   "outputs": [
    {
     "ename": "AttributeError",
     "evalue": "'list' object has no attribute 'tolist'",
     "output_type": "error",
     "traceback": [
      "\u001b[1;31m---------------------------------------------------------------------------\u001b[0m",
      "\u001b[1;31mAttributeError\u001b[0m                            Traceback (most recent call last)",
      "\u001b[1;32mC:\\temp/ipykernel_10072/475540173.py\u001b[0m in \u001b[0;36m<module>\u001b[1;34m\u001b[0m\n\u001b[1;32m----> 1\u001b[1;33m \u001b[1;33m[\u001b[0m\u001b[0mtorch\u001b[0m\u001b[1;33m.\u001b[0m\u001b[0mtensor\u001b[0m\u001b[1;33m(\u001b[0m\u001b[1;36m3.1217\u001b[0m\u001b[1;33m)\u001b[0m\u001b[1;33m,\u001b[0m \u001b[0mtorch\u001b[0m\u001b[1;33m.\u001b[0m\u001b[0mtensor\u001b[0m\u001b[1;33m(\u001b[0m\u001b[1;36m4.8822\u001b[0m\u001b[1;33m)\u001b[0m\u001b[1;33m,\u001b[0m \u001b[0mtorch\u001b[0m\u001b[1;33m.\u001b[0m\u001b[0mtensor\u001b[0m\u001b[1;33m(\u001b[0m\u001b[1;36m3.2859\u001b[0m\u001b[1;33m)\u001b[0m\u001b[1;33m]\u001b[0m\u001b[1;33m.\u001b[0m\u001b[0mtolist\u001b[0m\u001b[1;33m(\u001b[0m\u001b[1;33m)\u001b[0m\u001b[1;33m\u001b[0m\u001b[1;33m\u001b[0m\u001b[0m\n\u001b[0m",
      "\u001b[1;31mAttributeError\u001b[0m: 'list' object has no attribute 'tolist'"
     ]
    }
   ],
   "source": [
    "[torch.tensor(3.1217), torch.tensor(4.8822), torch.tensor(3.2859)]"
   ]
  },
  {
   "cell_type": "code",
   "execution_count": 19,
   "id": "e8276041-9f79-4d64-9777-75fc9c8b1fbb",
   "metadata": {},
   "outputs": [
    {
     "ename": "TypeError",
     "evalue": "'int' object is not iterable",
     "output_type": "error",
     "traceback": [
      "\u001b[1;31m---------------------------------------------------------------------------\u001b[0m",
      "\u001b[1;31mTypeError\u001b[0m                                 Traceback (most recent call last)",
      "\u001b[1;32mC:\\temp/ipykernel_10072/1269502965.py\u001b[0m in \u001b[0;36m<module>\u001b[1;34m\u001b[0m\n\u001b[1;32m----> 1\u001b[1;33m \u001b[0mls\u001b[0m\u001b[1;33m.\u001b[0m\u001b[0mextend\u001b[0m\u001b[1;33m(\u001b[0m\u001b[1;33m[\u001b[0m\u001b[1;36m2\u001b[0m\u001b[1;33m,\u001b[0m\u001b[1;36m2\u001b[0m\u001b[1;33m,\u001b[0m\u001b[1;36m2\u001b[0m\u001b[1;33m,\u001b[0m\u001b[1;36m2\u001b[0m\u001b[1;33m]\u001b[0m\u001b[1;33m[\u001b[0m\u001b[1;36m0\u001b[0m\u001b[1;33m]\u001b[0m\u001b[1;33m)\u001b[0m\u001b[1;33m\u001b[0m\u001b[1;33m\u001b[0m\u001b[0m\n\u001b[0m",
      "\u001b[1;31mTypeError\u001b[0m: 'int' object is not iterable"
     ]
    }
   ],
   "source": [
    "ls.extend([2,2,2,2])"
   ]
  },
  {
   "cell_type": "code",
   "execution_count": 23,
   "id": "b3d0ae5b-32f1-4fa1-a6b1-cfa050e2b99a",
   "metadata": {},
   "outputs": [
    {
     "data": {
      "text/plain": [
       "[1, 2, 3, 4, 2, 2, 2, 2]"
      ]
     },
     "execution_count": 23,
     "metadata": {},
     "output_type": "execute_result"
    }
   ],
   "source": [
    "ls + [2,2,2,2]"
   ]
  },
  {
   "cell_type": "code",
   "execution_count": null,
   "id": "26f48bb6-e206-466b-bce6-9fa4e02c2f7a",
   "metadata": {},
   "outputs": [],
   "source": [
    "actual_num_epochs += 1\n",
    "# train\n",
    "epoch_train_loss, epoch_train_acc = self.train_epoch(dl_train, **kw)\n",
    "# test\n",
    "epoch_test_loss, epoch_test_acc = self.test_epoch(dl_test, **kw)\n",
    "# add current results\n",
    "train_loss.extend(epoch_train_loss)\n",
    "train_acc.append(epoch_train_acc)\n",
    "test_loss.extend(epoch_test_loss)\n",
    "test_acc.append(epoch_test_acc)"
   ]
  },
  {
   "cell_type": "code",
   "execution_count": 29,
   "id": "35324a5f-d1c0-4359-815e-c7369f7e0bef",
   "metadata": {},
   "outputs": [],
   "source": [
    "a = torch.rand(5,5)\n",
    "b = torch.rand(5,5)"
   ]
  },
  {
   "cell_type": "code",
   "execution_count": 30,
   "id": "70e6f44a-7664-4e0e-9bec-ebdb1156e7dd",
   "metadata": {},
   "outputs": [
    {
     "data": {
      "text/plain": [
       "(tensor([[0.6391, 0.4122, 0.4556, 0.8051, 0.9173],\n",
       "         [0.4253, 0.7474, 0.4271, 0.7203, 0.7233],\n",
       "         [0.1234, 0.1404, 0.4790, 0.2170, 0.0211],\n",
       "         [0.7313, 0.9112, 0.9022, 0.9691, 0.0476],\n",
       "         [0.4520, 0.2382, 0.5294, 0.2002, 0.3769]]),\n",
       " tensor([[0.9212, 0.4681, 0.9489, 0.5220, 0.3115],\n",
       "         [0.0206, 0.5518, 0.6165, 0.8729, 0.1746],\n",
       "         [0.9841, 0.5628, 0.3618, 0.0521, 0.5666],\n",
       "         [0.3705, 0.5983, 0.7771, 0.2047, 0.4351],\n",
       "         [0.8235, 0.9699, 0.5412, 0.5907, 0.0707]]))"
      ]
     },
     "execution_count": 30,
     "metadata": {},
     "output_type": "execute_result"
    }
   ],
   "source": [
    "a,b"
   ]
  },
  {
   "cell_type": "code",
   "execution_count": 35,
   "id": "d82aabd9-2510-4ee4-a022-bd2afeaa8439",
   "metadata": {},
   "outputs": [
    {
     "data": {
      "text/plain": [
       "tensor([[0.6391, 0.4122, 0.4556, 0.8051, 0.9173],\n",
       "        [0.4253, 0.7474, 0.4271, 0.7203, 0.7233],\n",
       "        [0.1234, 0.1404, 0.4790, 0.2170, 0.0211],\n",
       "        [0.7313, 0.9112, 0.9022, 0.9691, 0.0476],\n",
       "        [0.4520, 0.2382, 0.5294, 0.2002, 0.3769]])"
      ]
     },
     "execution_count": 35,
     "metadata": {},
     "output_type": "execute_result"
    }
   ],
   "source": [
    "a.te"
   ]
  },
  {
   "cell_type": "code",
   "execution_count": 38,
   "id": "26ca725b-7e19-4f51-91cf-f9283a753917",
   "metadata": {},
   "outputs": [
    {
     "ename": "TypeError",
     "evalue": "stack(): argument 'tensors' (position 1) must be tuple of Tensors, not Tensor",
     "output_type": "error",
     "traceback": [
      "\u001b[1;31m---------------------------------------------------------------------------\u001b[0m",
      "\u001b[1;31mTypeError\u001b[0m                                 Traceback (most recent call last)",
      "\u001b[1;32mC:\\temp/ipykernel_10072/473403334.py\u001b[0m in \u001b[0;36m<module>\u001b[1;34m\u001b[0m\n\u001b[1;32m----> 1\u001b[1;33m \u001b[0mtorch\u001b[0m\u001b[1;33m.\u001b[0m\u001b[0mstack\u001b[0m\u001b[1;33m(\u001b[0m\u001b[0mtorch\u001b[0m\u001b[1;33m.\u001b[0m\u001b[0mrand\u001b[0m\u001b[1;33m(\u001b[0m\u001b[1;36m5\u001b[0m\u001b[1;33m)\u001b[0m\u001b[1;33m)\u001b[0m\u001b[1;33m\u001b[0m\u001b[1;33m\u001b[0m\u001b[0m\n\u001b[0m",
      "\u001b[1;31mTypeError\u001b[0m: stack(): argument 'tensors' (position 1) must be tuple of Tensors, not Tensor"
     ]
    }
   ],
   "source": [
    "torch.stack(torch.rand(5))"
   ]
  },
  {
   "cell_type": "code",
   "execution_count": 40,
   "id": "841b3925-2a87-4cd9-a6e5-2bd61b20284a",
   "metadata": {},
   "outputs": [
    {
     "data": {
      "text/plain": [
       "tensor(0.5045)"
      ]
     },
     "execution_count": 40,
     "metadata": {},
     "output_type": "execute_result"
    }
   ],
   "source": [
    "torch.mean(torch.stack((a,a)))"
   ]
  },
  {
   "cell_type": "code",
   "execution_count": 45,
   "id": "8b63e290-a92b-462f-8d7a-d8eb8ca4c4ae",
   "metadata": {},
   "outputs": [
    {
     "data": {
      "text/plain": [
       "tensor(0.5045)"
      ]
     },
     "execution_count": 45,
     "metadata": {},
     "output_type": "execute_result"
    }
   ],
   "source": [
    "torch.stack((a,a)).mean()"
   ]
  },
  {
   "cell_type": "code",
   "execution_count": 48,
   "id": "8a9f80f4-aaf9-4d8e-b1d4-1cdf8f3e4bd0",
   "metadata": {},
   "outputs": [
    {
     "data": {
      "text/plain": [
       "(tensor(0.5045), tensor(0.5327))"
      ]
     },
     "execution_count": 48,
     "metadata": {},
     "output_type": "execute_result"
    }
   ],
   "source": [
    "a.mean(),b.mean()"
   ]
  },
  {
   "cell_type": "code",
   "execution_count": 49,
   "id": "2288e096-81e8-480b-bb8b-100da52bc114",
   "metadata": {},
   "outputs": [
    {
     "data": {
      "text/plain": [
       "tensor([[0.6391, 0.4122, 0.4556, 0.8051, 0.9173],\n",
       "        [0.4253, 0.7474, 0.4271, 0.7203, 0.7233],\n",
       "        [0.1234, 0.1404, 0.4790, 0.2170, 0.0211],\n",
       "        [0.7313, 0.9112, 0.9022, 0.9691, 0.0476],\n",
       "        [0.4520, 0.2382, 0.5294, 0.2002, 0.3769]])"
      ]
     },
     "execution_count": 49,
     "metadata": {},
     "output_type": "execute_result"
    }
   ],
   "source": [
    "a"
   ]
  },
  {
   "cell_type": "code",
   "execution_count": 52,
   "id": "86cb7889-08f3-4baa-af9c-15cd67ce0b9b",
   "metadata": {},
   "outputs": [
    {
     "ename": "TypeError",
     "evalue": "'>' not supported between instances of 'float' and 'NoneType'",
     "output_type": "error",
     "traceback": [
      "\u001b[1;31m---------------------------------------------------------------------------\u001b[0m",
      "\u001b[1;31mTypeError\u001b[0m                                 Traceback (most recent call last)",
      "\u001b[1;32mC:\\temp/ipykernel_10072/3707040432.py\u001b[0m in \u001b[0;36m<module>\u001b[1;34m\u001b[0m\n\u001b[1;32m----> 1\u001b[1;33m \u001b[0ma\u001b[0m\u001b[1;33m.\u001b[0m\u001b[0mmean\u001b[0m\u001b[1;33m(\u001b[0m\u001b[1;33m)\u001b[0m\u001b[1;33m.\u001b[0m\u001b[0mitem\u001b[0m\u001b[1;33m(\u001b[0m\u001b[1;33m)\u001b[0m \u001b[1;33m>\u001b[0m \u001b[1;32mNone\u001b[0m\u001b[1;33m\u001b[0m\u001b[1;33m\u001b[0m\u001b[0m\n\u001b[0m",
      "\u001b[1;31mTypeError\u001b[0m: '>' not supported between instances of 'float' and 'NoneType'"
     ]
    }
   ],
   "source": [
    "a.mean().item() > None"
   ]
  },
  {
   "cell_type": "code",
   "execution_count": 69,
   "id": "a3d3e3a5-5e98-49c5-adaa-ee79a9af0841",
   "metadata": {},
   "outputs": [
    {
     "data": {
      "text/plain": [
       "[tensor([0.]), tensor([0.]), tensor([0.]), tensor([0.]), tensor([0.])]"
      ]
     },
     "execution_count": 69,
     "metadata": {},
     "output_type": "execute_result"
    }
   ],
   "source": [
    "[torch.zeros(size=(1,))] * 5"
   ]
  },
  {
   "cell_type": "code",
   "execution_count": 74,
   "id": "5406a5df-8339-496e-bfcc-e03f75341015",
   "metadata": {},
   "outputs": [
    {
     "data": {
      "text/plain": [
       "[tensor([0.]), tensor([0.]), tensor([0.]), tensor([0.]), tensor([0.])]"
      ]
     },
     "execution_count": 74,
     "metadata": {},
     "output_type": "execute_result"
    }
   ],
   "source": [
    "[torch.zeros(1)]*5"
   ]
  },
  {
   "cell_type": "code",
   "execution_count": 80,
   "id": "11076207-1d46-447f-a4e9-bdc965289e6e",
   "metadata": {},
   "outputs": [],
   "source": [
    "l = [1,2,3,45]"
   ]
  },
  {
   "cell_type": "code",
   "execution_count": 84,
   "id": "0c3ad9d8-8ff7-4a44-b7fd-d442a46d11c6",
   "metadata": {},
   "outputs": [
    {
     "ename": "ValueError",
     "evalue": "0 is not in list",
     "output_type": "error",
     "traceback": [
      "\u001b[1;31m---------------------------------------------------------------------------\u001b[0m",
      "\u001b[1;31mValueError\u001b[0m                                Traceback (most recent call last)",
      "\u001b[1;32mC:\\temp/ipykernel_10072/3815479465.py\u001b[0m in \u001b[0;36m<module>\u001b[1;34m\u001b[0m\n\u001b[1;32m----> 1\u001b[1;33m \u001b[0ml\u001b[0m\u001b[1;33m.\u001b[0m\u001b[0mindex\u001b[0m\u001b[1;33m(\u001b[0m\u001b[1;36m0\u001b[0m\u001b[1;33m)\u001b[0m\u001b[1;33m\u001b[0m\u001b[1;33m\u001b[0m\u001b[0m\n\u001b[0m",
      "\u001b[1;31mValueError\u001b[0m: 0 is not in list"
     ]
    }
   ],
   "source": [
    "l.index"
   ]
  },
  {
   "cell_type": "code",
   "execution_count": null,
   "id": "92bd02f4-83f5-4f5a-af6f-3a8c96085fc5",
   "metadata": {},
   "outputs": [],
   "source": []
  }
 ],
 "metadata": {
  "kernelspec": {
   "display_name": "Python 3 (ipykernel)",
   "language": "python",
   "name": "python3"
  },
  "language_info": {
   "codemirror_mode": {
    "name": "ipython",
    "version": 3
   },
   "file_extension": ".py",
   "mimetype": "text/x-python",
   "name": "python",
   "nbconvert_exporter": "python",
   "pygments_lexer": "ipython3",
   "version": "3.8.6"
  }
 },
 "nbformat": 4,
 "nbformat_minor": 5
}
